{
 "cells": [
  {
   "cell_type": "code",
   "execution_count": 1,
   "metadata": {
    "id": "gisSEwlud_Yn"
   },
   "outputs": [],
   "source": [
    "import numpy as np\n",
    "import os\n",
    "import gc\n",
    "import sys\n",
    "from time import strftime\n",
    "from joblib import dump, load\n",
    "\n",
    "from sklearn.model_selection import GridSearchCV, ParameterGrid, train_test_split\n",
    "from sklearn.metrics import mean_absolute_error, mean_squared_error, r2_score\n",
    "from sklearn.preprocessing import StandardScaler, PolynomialFeatures\n",
    "from sklearn.ensemble import RandomForestRegressor\n",
    "from sklearn.pipeline import Pipeline\n",
    "from sklearn.multioutput import MultiOutputRegressor"
   ]
  },
  {
   "cell_type": "code",
   "execution_count": null,
   "metadata": {},
   "outputs": [],
   "source": [
    "'''\n",
    "from IPython.utils.io import Tee\n",
    "\n",
    "# Redirect all the outputs messages to the terminal and to a log file\n",
    "logs_dir = './logs'\n",
    "logfilename = logs_dir + strftime('/ipython_%Y-%m-%d_%H:%M:%S') + '.log' \n",
    "if not os.path.exists(logs_dir):\n",
    "    os.makedirs(logs_dir)\n",
    "    \n",
    "sys.stdout = open('/dev/stdout', 'w')\n",
    "Tee(logfilename, mode='w', channel='stdout')\n",
    "'''"
   ]
  },
  {
   "cell_type": "markdown",
   "metadata": {},
   "source": [
    "## Configuration"
   ]
  },
  {
   "cell_type": "code",
   "execution_count": 2,
   "metadata": {},
   "outputs": [
    {
     "name": "stdout",
     "output_type": "stream",
     "text": [
      "Model training with data: 0002_31032021\n"
     ]
    }
   ],
   "source": [
    "# Path where the data is stored\n",
    "SOURCE_PATH = '../../../data'\n",
    "# Directory inside SOURCE_PATH where the derived data is stored\n",
    "DERIVED_DATA_DIR = '/derived_data'\n",
    "# Experiment params\n",
    "DATE_EXPERIMENT = '24022021'\n",
    "\n",
    "# Number of force cells in the robotic leg\n",
    "N_CELLS = 8\n",
    "\n",
    "# Experiment params\n",
    "DATA_ID = '0002_31032021'\n",
    "\n",
    "print('Model training with data: ' + DATA_ID)"
   ]
  },
  {
   "cell_type": "markdown",
   "metadata": {},
   "source": [
    "## Load data"
   ]
  },
  {
   "cell_type": "code",
   "execution_count": 3,
   "metadata": {},
   "outputs": [
    {
     "name": "stdout",
     "output_type": "stream",
     "text": [
      "X train: (187982, 15), Y train: (187982, 24)\n",
      "X test: (80564, 15), Y test: (80564, 24)\n"
     ]
    }
   ],
   "source": [
    "X_train = np.load(os.path.join(SOURCE_PATH + DERIVED_DATA_DIR, DATE_EXPERIMENT, 'X_train_' + DATA_ID + '.npy'))\n",
    "X_test = np.load(os.path.join(SOURCE_PATH + DERIVED_DATA_DIR, DATE_EXPERIMENT, 'X_test_' + DATA_ID + '.npy'))\n",
    "Y_train = np.load(os.path.join(SOURCE_PATH + DERIVED_DATA_DIR, DATE_EXPERIMENT, 'Y_train_' + DATA_ID + '.npy'))\n",
    "Y_test = np.load(os.path.join(SOURCE_PATH + DERIVED_DATA_DIR, DATE_EXPERIMENT, 'Y_test_' + DATA_ID + '.npy'))\n",
    "\n",
    "print('X train: {}, Y train: {}'.format(X_train.shape, Y_train.shape))\n",
    "print('X test: {}, Y test: {}'.format(X_test.shape, Y_test.shape))"
   ]
  },
  {
   "cell_type": "markdown",
   "metadata": {},
   "source": [
    "## Train model"
   ]
  },
  {
   "cell_type": "code",
   "execution_count": 4,
   "metadata": {},
   "outputs": [
    {
     "name": "stdout",
     "output_type": "stream",
     "text": [
      "Number of parameters combinations: 1\n"
     ]
    }
   ],
   "source": [
    "# param_grid = {\n",
    "#     'n_estimators': [10, 100, 1000],\n",
    "#     'criterion': ['mae', 'mse'],\n",
    "#     'max_depth': [2, 5, 10, None],\n",
    "# }\n",
    "param_grid = {}\n",
    "\n",
    "print('Number of parameters combinations: {}'.format(len(list(ParameterGrid(param_grid)))))"
   ]
  },
  {
   "cell_type": "code",
   "execution_count": 5,
   "metadata": {},
   "outputs": [
    {
     "name": "stdout",
     "output_type": "stream",
     "text": [
      "Fitting 5 folds for each of 1 candidates, totalling 5 fits\n"
     ]
    },
    {
     "name": "stderr",
     "output_type": "stream",
     "text": [
      "[Parallel(n_jobs=1)]: Using backend SequentialBackend with 1 concurrent workers.\n"
     ]
    },
    {
     "name": "stdout",
     "output_type": "stream",
     "text": [
      "building tree 1 of 100\n"
     ]
    },
    {
     "name": "stderr",
     "output_type": "stream",
     "text": [
      "[Parallel(n_jobs=1)]: Done   1 out of   1 | elapsed:    4.7s remaining:    0.0s\n"
     ]
    },
    {
     "name": "stdout",
     "output_type": "stream",
     "text": [
      "building tree 2 of 100\n"
     ]
    },
    {
     "name": "stderr",
     "output_type": "stream",
     "text": [
      "[Parallel(n_jobs=1)]: Done   2 out of   2 | elapsed:    9.4s remaining:    0.0s\n"
     ]
    },
    {
     "name": "stdout",
     "output_type": "stream",
     "text": [
      "building tree 3 of 100\n"
     ]
    },
    {
     "name": "stderr",
     "output_type": "stream",
     "text": [
      "[Parallel(n_jobs=1)]: Done   3 out of   3 | elapsed:   14.0s remaining:    0.0s\n"
     ]
    },
    {
     "name": "stdout",
     "output_type": "stream",
     "text": [
      "building tree 4 of 100\n"
     ]
    },
    {
     "name": "stderr",
     "output_type": "stream",
     "text": [
      "[Parallel(n_jobs=1)]: Done   4 out of   4 | elapsed:   18.9s remaining:    0.0s\n"
     ]
    },
    {
     "name": "stdout",
     "output_type": "stream",
     "text": [
      "building tree 5 of 100\n"
     ]
    },
    {
     "name": "stderr",
     "output_type": "stream",
     "text": [
      "[Parallel(n_jobs=1)]: Done   5 out of   5 | elapsed:   23.7s remaining:    0.0s\n"
     ]
    },
    {
     "name": "stdout",
     "output_type": "stream",
     "text": [
      "building tree 6 of 100\n"
     ]
    },
    {
     "name": "stderr",
     "output_type": "stream",
     "text": [
      "[Parallel(n_jobs=1)]: Done   6 out of   6 | elapsed:   28.3s remaining:    0.0s\n"
     ]
    },
    {
     "name": "stdout",
     "output_type": "stream",
     "text": [
      "building tree 7 of 100\n"
     ]
    },
    {
     "name": "stderr",
     "output_type": "stream",
     "text": [
      "[Parallel(n_jobs=1)]: Done   7 out of   7 | elapsed:   33.1s remaining:    0.0s\n"
     ]
    },
    {
     "name": "stdout",
     "output_type": "stream",
     "text": [
      "building tree 8 of 100\n"
     ]
    },
    {
     "name": "stderr",
     "output_type": "stream",
     "text": [
      "[Parallel(n_jobs=1)]: Done   8 out of   8 | elapsed:   37.6s remaining:    0.0s\n"
     ]
    },
    {
     "name": "stdout",
     "output_type": "stream",
     "text": [
      "building tree 9 of 100\n"
     ]
    },
    {
     "name": "stderr",
     "output_type": "stream",
     "text": [
      "[Parallel(n_jobs=1)]: Done   9 out of   9 | elapsed:   42.2s remaining:    0.0s\n"
     ]
    },
    {
     "name": "stdout",
     "output_type": "stream",
     "text": [
      "building tree 10 of 100\n",
      "building tree 11 of 100\n",
      "building tree 12 of 100\n",
      "building tree 13 of 100\n",
      "building tree 14 of 100\n",
      "building tree 15 of 100\n",
      "building tree 16 of 100\n",
      "building tree 17 of 100\n",
      "building tree 18 of 100\n",
      "building tree 19 of 100\n",
      "building tree 20 of 100\n",
      "building tree 21 of 100\n",
      "building tree 22 of 100\n",
      "building tree 23 of 100\n",
      "building tree 24 of 100\n",
      "building tree 25 of 100\n",
      "building tree 26 of 100\n",
      "building tree 27 of 100\n",
      "building tree 28 of 100\n",
      "building tree 29 of 100\n",
      "building tree 30 of 100\n",
      "building tree 31 of 100\n",
      "building tree 32 of 100\n",
      "building tree 33 of 100\n",
      "building tree 34 of 100\n",
      "building tree 35 of 100\n",
      "building tree 36 of 100\n",
      "building tree 37 of 100\n",
      "building tree 38 of 100\n",
      "building tree 39 of 100\n",
      "building tree 40 of 100\n",
      "building tree 41 of 100\n",
      "building tree 42 of 100\n",
      "building tree 43 of 100\n",
      "building tree 44 of 100\n",
      "building tree 45 of 100\n",
      "building tree 46 of 100\n",
      "building tree 47 of 100\n",
      "building tree 48 of 100\n",
      "building tree 49 of 100\n",
      "building tree 50 of 100\n",
      "building tree 51 of 100\n",
      "building tree 52 of 100\n",
      "building tree 53 of 100\n",
      "building tree 54 of 100\n",
      "building tree 55 of 100\n",
      "building tree 56 of 100\n",
      "building tree 57 of 100\n",
      "building tree 58 of 100\n",
      "building tree 59 of 100\n",
      "building tree 60 of 100\n",
      "building tree 61 of 100\n",
      "building tree 62 of 100\n",
      "building tree 63 of 100\n",
      "building tree 64 of 100\n",
      "building tree 65 of 100\n",
      "building tree 66 of 100\n",
      "building tree 67 of 100\n",
      "building tree 68 of 100\n",
      "building tree 69 of 100\n",
      "building tree 70 of 100\n",
      "building tree 71 of 100\n",
      "building tree 72 of 100\n",
      "building tree 73 of 100\n",
      "building tree 74 of 100\n",
      "building tree 75 of 100\n",
      "building tree 76 of 100\n",
      "building tree 77 of 100\n",
      "building tree 78 of 100\n",
      "building tree 79 of 100\n",
      "building tree 80 of 100\n",
      "building tree 81 of 100\n",
      "building tree 82 of 100\n",
      "building tree 83 of 100\n",
      "building tree 84 of 100\n",
      "building tree 85 of 100\n",
      "building tree 86 of 100\n",
      "building tree 87 of 100\n",
      "building tree 88 of 100\n",
      "building tree 89 of 100\n",
      "building tree 90 of 100\n",
      "building tree 91 of 100\n",
      "building tree 92 of 100\n",
      "building tree 93 of 100\n",
      "building tree 94 of 100\n",
      "building tree 95 of 100\n",
      "building tree 96 of 100\n",
      "building tree 97 of 100\n",
      "building tree 98 of 100\n",
      "building tree 99 of 100\n",
      "building tree 100 of 100\n"
     ]
    },
    {
     "name": "stderr",
     "output_type": "stream",
     "text": [
      "[Parallel(n_jobs=1)]: Done 100 out of 100 | elapsed:  8.4min finished\n"
     ]
    },
    {
     "name": "stdout",
     "output_type": "stream",
     "text": [
      "Best params: {}\n"
     ]
    },
    {
     "data": {
      "text/plain": [
       "['../../../data/derived_data/24022021/model_0002_31032021.joblib']"
      ]
     },
     "execution_count": 5,
     "metadata": {},
     "output_type": "execute_result"
    }
   ],
   "source": [
    "rf = RandomForestRegressor(random_state=0, verbose=10)\n",
    "\n",
    "model = GridSearchCV(rf, param_grid, cv=5, scoring='neg_mean_squared_error', n_jobs=-1, pre_dispatch=2, verbose=10)\n",
    "model.fit(X_train, Y_train)\n",
    "\n",
    "print('Best params: {}'.format(model.best_params_))\n",
    "\n",
    "# Save the model\n",
    "dump(model.best_estimator_, os.path.join(SOURCE_PATH + DERIVED_DATA_DIR, DATE_EXPERIMENT, 'model_' + DATA_ID + '.joblib')) "
   ]
  },
  {
   "cell_type": "code",
   "execution_count": 6,
   "metadata": {},
   "outputs": [
    {
     "name": "stderr",
     "output_type": "stream",
     "text": [
      "[Parallel(n_jobs=1)]: Using backend SequentialBackend with 1 concurrent workers.\n",
      "[Parallel(n_jobs=1)]: Done   1 out of   1 | elapsed:    0.1s remaining:    0.0s\n",
      "[Parallel(n_jobs=1)]: Done   2 out of   2 | elapsed:    0.2s remaining:    0.0s\n",
      "[Parallel(n_jobs=1)]: Done   3 out of   3 | elapsed:    0.3s remaining:    0.0s\n",
      "[Parallel(n_jobs=1)]: Done   4 out of   4 | elapsed:    0.4s remaining:    0.0s\n",
      "[Parallel(n_jobs=1)]: Done   5 out of   5 | elapsed:    0.5s remaining:    0.0s\n",
      "[Parallel(n_jobs=1)]: Done   6 out of   6 | elapsed:    0.5s remaining:    0.0s\n",
      "[Parallel(n_jobs=1)]: Done   7 out of   7 | elapsed:    0.6s remaining:    0.0s\n",
      "[Parallel(n_jobs=1)]: Done   8 out of   8 | elapsed:    0.7s remaining:    0.0s\n",
      "[Parallel(n_jobs=1)]: Done   9 out of   9 | elapsed:    0.8s remaining:    0.0s\n",
      "[Parallel(n_jobs=1)]: Done 100 out of 100 | elapsed:    8.3s finished\n",
      "[Parallel(n_jobs=1)]: Using backend SequentialBackend with 1 concurrent workers.\n",
      "[Parallel(n_jobs=1)]: Done   1 out of   1 | elapsed:    0.0s remaining:    0.0s\n",
      "[Parallel(n_jobs=1)]: Done   2 out of   2 | elapsed:    0.1s remaining:    0.0s\n",
      "[Parallel(n_jobs=1)]: Done   3 out of   3 | elapsed:    0.1s remaining:    0.0s\n",
      "[Parallel(n_jobs=1)]: Done   4 out of   4 | elapsed:    0.1s remaining:    0.0s\n",
      "[Parallel(n_jobs=1)]: Done   5 out of   5 | elapsed:    0.2s remaining:    0.0s\n",
      "[Parallel(n_jobs=1)]: Done   6 out of   6 | elapsed:    0.2s remaining:    0.0s\n",
      "[Parallel(n_jobs=1)]: Done   7 out of   7 | elapsed:    0.3s remaining:    0.0s\n",
      "[Parallel(n_jobs=1)]: Done   8 out of   8 | elapsed:    0.3s remaining:    0.0s\n",
      "[Parallel(n_jobs=1)]: Done   9 out of   9 | elapsed:    0.3s remaining:    0.0s\n"
     ]
    },
    {
     "name": "stdout",
     "output_type": "stream",
     "text": [
      "Train F1x MAE: 0.4092\n",
      "Train F1x MSE: 1.1648\n",
      "Train F1x R2: 0.9957\n",
      "Train F2x MAE: 0.2973\n",
      "Train F2x MSE: 0.3598\n",
      "Train F2x R2: 0.9983\n",
      "Train F3x MAE: 0.7045\n",
      "Train F3x MSE: 1.9891\n",
      "Train F3x R2: 0.9982\n",
      "Train F4x MAE: 0.4447\n",
      "Train F4x MSE: 1.2629\n",
      "Train F4x R2: 0.9974\n",
      "Train F5x MAE: 0.5354\n",
      "Train F5x MSE: 0.8772\n",
      "Train F5x R2: 0.9972\n",
      "Train F6x MAE: 0.5385\n",
      "Train F6x MSE: 1.2260\n",
      "Train F6x R2: 0.9972\n",
      "Train F7x MAE: 0.4292\n",
      "Train F7x MSE: 1.0982\n",
      "Train F7x R2: 0.9968\n",
      "Train F8x MAE: 0.3377\n",
      "Train F8x MSE: 0.6069\n",
      "Train F8x R2: 0.9964\n",
      "Train F1y MAE: 0.2180\n",
      "Train F1y MSE: 0.2279\n",
      "Train F1y R2: 0.9950\n",
      "Train F2y MAE: 0.2263\n",
      "Train F2y MSE: 0.1896\n",
      "Train F2y R2: 0.9957\n",
      "Train F3y MAE: 1.1662\n",
      "Train F3y MSE: 3.7859\n",
      "Train F3y R2: 0.9940\n",
      "Train F4y MAE: 0.8536\n",
      "Train F4y MSE: 4.1688\n",
      "Train F4y R2: 0.9966\n",
      "Train F5y MAE: 0.8263\n",
      "Train F5y MSE: 3.6380\n",
      "Train F5y R2: 0.9981\n",
      "Train F6y MAE: 0.2940\n",
      "Train F6y MSE: 0.2600\n",
      "Train F6y R2: 0.9946\n",
      "Train F7y MAE: 0.3027\n",
      "Train F7y MSE: 0.3912\n",
      "Train F7y R2: 0.9927\n",
      "Train F8y MAE: 0.3863\n",
      "Train F8y MSE: 0.6034\n",
      "Train F8y R2: 0.9962\n",
      "Train F1z MAE: 0.3256\n",
      "Train F1z MSE: 0.7630\n",
      "Train F1z R2: 0.9973\n",
      "Train F2z MAE: 0.2324\n",
      "Train F2z MSE: 0.3056\n",
      "Train F2z R2: 0.9986\n",
      "Train F3z MAE: 0.7426\n",
      "Train F3z MSE: 2.1105\n",
      "Train F3z R2: 0.9971\n",
      "Train F4z MAE: 0.7653\n",
      "Train F4z MSE: 4.8707\n",
      "Train F4z R2: 0.9982\n",
      "Train F5z MAE: 0.7216\n",
      "Train F5z MSE: 1.6352\n",
      "Train F5z R2: 0.9976\n",
      "Train F6z MAE: 0.6377\n",
      "Train F6z MSE: 1.5986\n",
      "Train F6z R2: 0.9975\n",
      "Train F7z MAE: 0.6072\n",
      "Train F7z MSE: 2.4522\n",
      "Train F7z R2: 0.9962\n",
      "Train F8z MAE: 0.3256\n",
      "Train F8z MSE: 0.6147\n",
      "Train F8z R2: 0.9986\n",
      "Test F1x MAE: 1.0862\n",
      "Test F1x MSE: 8.0919\n",
      "Test F1x R2: 0.9703\n",
      "Test F2x MAE: 0.7911\n",
      "Test F2x MSE: 2.4790\n",
      "Test F2x R2: 0.9883\n",
      "Test F3x MAE: 1.8750\n",
      "Test F3x MSE: 13.4776\n",
      "Test F3x R2: 0.9879\n",
      "Test F4x MAE: 1.1746\n",
      "Test F4x MSE: 8.5901\n",
      "Test F4x R2: 0.9818\n",
      "Test F5x MAE: 1.4258\n",
      "Test F5x MSE: 6.0425\n",
      "Test F5x R2: 0.9809\n",
      "Test F6x MAE: 1.4301\n",
      "Test F6x MSE: 8.4939\n",
      "Test F6x R2: 0.9802\n",
      "Test F7x MAE: 1.1324\n",
      "Test F7x MSE: 7.2215\n",
      "Test F7x R2: 0.9784\n",
      "Test F8x MAE: 0.8980\n",
      "Test F8x MSE: 4.1997\n",
      "Test F8x R2: 0.9748\n",
      "Test F1y MAE: 0.5779\n",
      "Test F1y MSE: 1.5485\n",
      "Test F1y R2: 0.9655\n",
      "Test F2y MAE: 0.6091\n",
      "Test F2y MSE: 1.3450\n",
      "Test F2y R2: 0.9696\n",
      "Test F3y MAE: 3.1619\n",
      "Test F3y MSE: 27.7747\n",
      "Test F3y R2: 0.9558\n",
      "Test F4y MAE: 2.2827\n",
      "Test F4y MSE: 27.5384\n",
      "Test F4y R2: 0.9771\n",
      "Test F5y MAE: 2.2034\n",
      "Test F5y MSE: 24.9337\n",
      "Test F5y R2: 0.9873\n",
      "Test F6y MAE: 0.7824\n",
      "Test F6y MSE: 1.7756\n",
      "Test F6y R2: 0.9626\n",
      "Test F7y MAE: 0.8072\n",
      "Test F7y MSE: 2.5723\n",
      "Test F7y R2: 0.9510\n",
      "Test F8y MAE: 1.0396\n",
      "Test F8y MSE: 4.3394\n",
      "Test F8y R2: 0.9731\n",
      "Test F1z MAE: 0.8595\n",
      "Test F1z MSE: 5.1629\n",
      "Test F1z R2: 0.9816\n",
      "Test F2z MAE: 0.6115\n",
      "Test F2z MSE: 2.0384\n",
      "Test F2z R2: 0.9909\n",
      "Test F3z MAE: 1.9739\n",
      "Test F3z MSE: 14.4706\n",
      "Test F3z R2: 0.9802\n",
      "Test F4z MAE: 2.0123\n",
      "Test F4z MSE: 31.0014\n",
      "Test F4z R2: 0.9886\n",
      "Test F5z MAE: 1.9168\n",
      "Test F5z MSE: 11.3801\n",
      "Test F5z R2: 0.9833\n",
      "Test F6z MAE: 1.6925\n",
      "Test F6z MSE: 11.0350\n",
      "Test F6z R2: 0.9826\n",
      "Test F7z MAE: 1.6051\n",
      "Test F7z MSE: 16.2270\n",
      "Test F7z R2: 0.9749\n",
      "Test F8z MAE: 0.8660\n",
      "Test F8z MSE: 4.2124\n",
      "Test F8z R2: 0.9904\n",
      "\n",
      "\n",
      "Train Fx MAE: 0.4621 ± 0.1208\n",
      "Train Fx MSE: 1.0731 ± 0.4572\n",
      "Train Fx R2: 0.9971 ± 0.0008\n",
      "Train Fy MAE: 0.5342 ± 0.3381\n",
      "Train Fy MSE: 1.6581 ± 1.7185\n",
      "Train Fy R2: 0.9954 ± 0.0016\n",
      "Train Fz MAE: 0.5447 ± 0.2016\n",
      "Train Fz MSE: 1.7938 ± 1.3570\n",
      "Train Fz R2: 0.9976 ± 0.0008\n",
      "Test Fx MAE: 1.2266 ± 0.3222\n",
      "Test Fx MSE: 7.3245 ± 3.0886\n",
      "Test Fx R2: 0.9803 ± 0.0057\n",
      "Test Fy MAE: 1.4330 ± 0.9141\n",
      "Test Fy MSE: 11.4785 ± 11.8862\n",
      "Test Fy R2: 0.9678 ± 0.0109\n",
      "Test Fz MAE: 1.4422 ± 0.5343\n",
      "Test Fz MSE: 11.9410 ± 8.6091\n",
      "Test Fz R2: 0.9841 ± 0.0052\n"
     ]
    },
    {
     "name": "stderr",
     "output_type": "stream",
     "text": [
      "[Parallel(n_jobs=1)]: Done 100 out of 100 | elapsed:    3.4s finished\n"
     ]
    }
   ],
   "source": [
    "train_preds = model.best_estimator_.predict(X_train)\n",
    "test_preds = model.best_estimator_.predict(X_test)\n",
    "\n",
    "results = {\n",
    "    'Train': {\n",
    "        'MAE': mean_absolute_error(Y_train, train_preds, multioutput='raw_values'),\n",
    "        'MSE': mean_squared_error(Y_train, train_preds, multioutput='raw_values'),\n",
    "        'R2': r2_score(Y_train, train_preds, multioutput='raw_values')\n",
    "    },\n",
    "    'Test': {\n",
    "        'MAE': mean_absolute_error(Y_test, test_preds, multioutput='raw_values'),\n",
    "        'MSE': mean_squared_error(Y_test, test_preds, multioutput='raw_values'),\n",
    "        'R2': r2_score(Y_test, test_preds, multioutput='raw_values')\n",
    "    }       \n",
    "    \n",
    "}\n",
    "\n",
    "for subset in ['Train', 'Test']:\n",
    "    for f, force in enumerate(['Fx', 'Fy', 'Fz']):\n",
    "        for c in range(N_CELLS):\n",
    "            for loss in ['MAE', 'MSE', 'R2']:\n",
    "                scores = [results[subset][loss][i + f] for i in range(0, N_CELLS * 3, 3)]\n",
    "                print('{} {}{}{} {}: {:.4f}'.format(subset, force[0], c + 1, force[-1], loss, scores[c]))\n",
    "            \n",
    "print('\\n')\n",
    "\n",
    "for subset in ['Train', 'Test']:\n",
    "    for f, force in enumerate(['Fx', 'Fy', 'Fz']):\n",
    "        for loss in ['MAE', 'MSE', 'R2']:\n",
    "            scores = [results[subset][loss][i + f] for i in range(0, N_CELLS * 3, 3)]\n",
    "            print(' '.join([subset, force, loss]) + ': {:.4f} ± {:.4f}'.format(np.mean(scores), np.std(scores)))"
   ]
  },
  {
   "cell_type": "code",
   "execution_count": null,
   "metadata": {
    "id": "7KiYjCavJo5x"
   },
   "outputs": [],
   "source": []
  }
 ],
 "metadata": {
  "colab": {
   "collapsed_sections": [],
   "name": "attempt_2.ipynb",
   "provenance": []
  },
  "kernelspec": {
   "display_name": "Python 3",
   "language": "python",
   "name": "python3"
  },
  "language_info": {
   "codemirror_mode": {
    "name": "ipython",
    "version": 3
   },
   "file_extension": ".py",
   "mimetype": "text/x-python",
   "name": "python",
   "nbconvert_exporter": "python",
   "pygments_lexer": "ipython3",
   "version": "3.8.5"
  }
 },
 "nbformat": 4,
 "nbformat_minor": 4
}
