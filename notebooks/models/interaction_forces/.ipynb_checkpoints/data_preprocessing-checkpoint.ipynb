{
 "cells": [
  {
   "cell_type": "code",
   "execution_count": 1,
   "id": "promotional-storm",
   "metadata": {},
   "outputs": [],
   "source": [
    "import pandas as pd\n",
    "import numpy as np\n",
    "from sklearn.model_selection import train_test_split\n",
    "from sklearn.preprocessing import StandardScaler\n",
    "from tqdm import tqdm\n",
    "import dask\n",
    "from dask import dataframe as dd\n",
    "from dask.diagnostics import ProgressBar\n",
    "import os\n",
    "import gc"
   ]
  },
  {
   "cell_type": "markdown",
   "id": "built-district",
   "metadata": {},
   "source": [
    "## Configuration"
   ]
  },
  {
   "cell_type": "code",
   "execution_count": 2,
   "id": "active-folder",
   "metadata": {},
   "outputs": [],
   "source": [
    "dask.config.set(num_workers=8, scheduler='processes')\n",
    "\n",
    "# Path where the data is stored\n",
    "SOURCE_PATH = '../../../data'\n",
    "# Directory inside SOURCE_PATH where the original data is stored\n",
    "ORIGINAL_DATA_DIR = '/EXOSAFE'\n",
    "# Directory inside SOURCE_PATH where the derived data is stored\n",
    "DERIVED_DATA_DIR = '/derived_data'\n",
    "\n",
    "# ID fo the training and test data resulting from this notebook, stored in DERIVED_DATA_DIR\n",
    "RESULTS_ID = '0001_26032021'\n",
    "\n",
    "# % of the data for the test set\n",
    "TEST_SIZE = 0.3\n",
    "\n",
    "# Number of force cells in the robotic leg\n",
    "N_CELLS = 8\n",
    "\n",
    "# Experiment params\n",
    "DATE_EXPERIMENTS = '24022021'\n",
    "N_EXPERIMENTS = 15\n"
   ]
  },
  {
   "cell_type": "markdown",
   "id": "acknowledged-sunglasses",
   "metadata": {},
   "source": [
    "## Preprocessing"
   ]
  },
  {
   "cell_type": "code",
   "execution_count": 3,
   "id": "after-title",
   "metadata": {},
   "outputs": [],
   "source": [
    "# Rotate force vectors of each force cell to align them\n",
    "rotations = {\n",
    "    1: [180, 90, 0],\n",
    "    2: [180, 90, 0],\n",
    "    3: [180, 0, -90],\n",
    "    4: [0, 0, -90],\n",
    "    5: [0, 0, 0],\n",
    "    6: [0, 180, 0],\n",
    "    7: [0, 90, 0],\n",
    "    8: [0, 0, 90],\n",
    "}\n",
    "\n",
    "def rotate_vector(v, axis, angle):\n",
    "    '''\n",
    "    Args:\n",
    "    - v (np.array): Vector to be rotated\n",
    "    - axis (int): Axis along the rotation is performed\n",
    "    - angle (int): Rotation angle\n",
    "    \n",
    "    Returns:\n",
    "    - (np.array)): Rotated vector\n",
    "    '''\n",
    "    if axis == 0:\n",
    "        # X\n",
    "        v = v.dot(np.array([[1, 0, 0], [0, np.cos(np.radians(angle)), np.sin(np.radians(angle))], [0, np.sin(np.radians(angle)), np.cos(np.radians(angle))]]))\n",
    "    elif axis == 1:\n",
    "        # Y\n",
    "        v = v.dot(np.array([[np.cos(np.radians(angle)), 0, np.sin(np.radians(angle))], [0, 1, 0], [-np.sin(np.radians(angle)), 0, np.cos(np.radians(angle))]]))\n",
    "    elif axis == 2:\n",
    "        # Z\n",
    "        v = v.dot(np.array([[np.cos(np.radians(angle)), -np.sin(np.radians(angle)), 0], [np.sin(np.radians(angle)), np.cos(np.radians(angle)), 0], [0, 0, 1]]))\n",
    "    else:\n",
    "        raise ValueError('Invalid axis')\n",
    "\n",
    "    return v\n",
    "\n",
    "@dask.delayed\n",
    "def rotate_row(row):\n",
    "    for i in range(1, N_CELLS + 1):\n",
    "        cols = ['F{}x'.format(str(i)), 'F{}y'.format(str(i)), 'F{}z'.format(str(i))]\n",
    "        for ax in range(3):\n",
    "            row[cols] = rotate_vector(row[cols], ax, rotations[i][ax])\n",
    "            \n",
    "    return row"
   ]
  },
  {
   "cell_type": "code",
   "execution_count": 6,
   "id": "fitting-convergence",
   "metadata": {},
   "outputs": [
    {
     "name": "stdout",
     "output_type": "stream",
     "text": [
      "Processing file 1\n",
      "[########################################] | 100% Completed | 58.5s\n",
      "Processing file 2\n",
      "[########################################] | 100% Completed | 59.0s\n",
      "Processing file 3\n",
      "[########################################] | 100% Completed | 57.4s\n",
      "Processing file 4\n",
      "[########################################] | 100% Completed | 58.6s\n",
      "Processing file 5\n",
      "[########################################] | 100% Completed | 57.7s\n",
      "Processing file 6\n",
      "[########################################] | 100% Completed | 59.1s\n",
      "Processing file 7\n",
      "[########################################] | 100% Completed | 57.6s\n",
      "Processing file 8\n",
      "[########################################] | 100% Completed | 58.7s\n",
      "Processing file 9\n",
      "[########################################] | 100% Completed | 58.8s\n",
      "Processing file 10\n",
      "[########################################] | 100% Completed | 58.7s\n",
      "Processing file 11\n",
      "[########################################] | 100% Completed | 58.0s\n",
      "Processing file 12\n",
      "[########################################] | 100% Completed | 59.0s\n",
      "Processing file 13\n",
      "[########################################] | 100% Completed | 57.7s\n",
      "Processing file 14\n",
      "[########################################] | 100% Completed | 58.9s\n",
      "Processing file 15\n",
      "[########################################] | 100% Completed | 58.8s\n"
     ]
    }
   ],
   "source": [
    "for i in range(N_EXPERIMENTS):\n",
    "    print('Processing file {}:'.format(i + 1))\n",
    "    # Create the directory to save the resulting data\n",
    "    save_dir = os.path.join(SOURCE_PATH + DERIVED_DATA_DIR, DATE_EXPERIMENTS, str(i + 1))\n",
    "    if not os.path.exists(save_dir):\n",
    "        os.makedirs(save_dir)\n",
    "    \n",
    "    # Select only the relevant excel sheets \n",
    "    sheets = ['ForceCells', 'H3processed']\n",
    "    # Load the data\n",
    "    data_df = pd.read_excel(SOURCE_PATH + ORIGINAL_DATA_DIR + '/' + DATE_EXPERIMENTS + '/0{}-'.format(i + 1) + DATE_EXPERIMENTS + '.xlsx', sheet_name=sheets)\n",
    "\n",
    "    forces_ddf = dd.from_pandas(data_df[sheets[0]], npartitions=int(len(data_df[sheets[0]]) / 100))\n",
    "\n",
    "    # Apply the rotation matrix to each force vector\n",
    "    forces_ddf = forces_ddf.apply(rotate_row, axis=1, meta=forces_ddf)\n",
    "\n",
    "    with ProgressBar():\n",
    "        data_df[sheets[0]] = forces_ddf.compute()\n",
    "        \n",
    "    \n",
    "    data_df[sheets[0]].to_csv(save_dir + '/force_cells.csv', index=False)\n",
    "    data_df[sheets[1]].to_csv(save_dir + '/H3_processed.csv', index=False)\n",
    "    \n",
    "    print('')\n"
   ]
  },
  {
   "cell_type": "markdown",
   "id": "musical-bruce",
   "metadata": {},
   "source": [
    "## Features and target selection"
   ]
  },
  {
   "cell_type": "code",
   "execution_count": 7,
   "id": "proof-bulletin",
   "metadata": {},
   "outputs": [
    {
     "name": "stderr",
     "output_type": "stream",
     "text": [
      "100%|██████████| 15/15 [00:01<00:00, 10.41it/s]\n"
     ]
    }
   ],
   "source": [
    "targets_df_ls = []\n",
    "features_df_ls = []\n",
    "for i in tqdm(range(N_EXPERIMENTS)):\n",
    "    data_dir = os.path.join(SOURCE_PATH + DERIVED_DATA_DIR, DATE_EXPERIMENTS, str(i + 1))\n",
    "    \n",
    "    targets_df = pd.read_csv(data_dir + '/force_cells.csv')\n",
    "    targets_df_ls.append(targets_df)\n",
    "    \n",
    "    features_df = pd.read_csv(data_dir + '/H3_processed.csv')\n",
    "    features_df_ls.append(features_df)\n",
    "\n",
    "targets_df = pd.concat(targets_df_ls, axis=0)\n",
    "features_df = pd.concat(features_df_ls, axis=0)"
   ]
  },
  {
   "cell_type": "code",
   "execution_count": 8,
   "id": "simplified-verification",
   "metadata": {},
   "outputs": [],
   "source": [
    "# Rename columns to manage with some typos\n",
    "features_df = features_df.rename(columns={'LankleTorque': 'LAnkleTorque', 'RankleTorque': 'RAnkleTorque'})"
   ]
  },
  {
   "cell_type": "code",
   "execution_count": 9,
   "id": "departmental-being",
   "metadata": {},
   "outputs": [
    {
     "name": "stdout",
     "output_type": "stream",
     "text": [
      "Number of features: 12\n",
      "Selected features: ['LHipPos', 'LHipVel', 'LHipAcc', 'LHipTorque', 'LKneePos', 'LKneeVel', 'LKneeAcc', 'LKneeTorque', 'LAnklePos', 'LAnkleVel', 'LAnkleAcc', 'LAnkleTorque']\n",
      "\n",
      "\n",
      "Number of targets: 24\n",
      "Selected targets: ['F1x', 'F1y', 'F1z', 'F2x', 'F2y', 'F2z', 'F3x', 'F3y', 'F3z', 'F4x', 'F4y', 'F4z', 'F5x', 'F5y', 'F5z', 'F6x', 'F6y', 'F6z', 'F7x', 'F7y', 'F7z', 'F8x', 'F8y', 'F8z']\n"
     ]
    }
   ],
   "source": [
    "H3_LEG = 'L' # L|R\n",
    "\n",
    "features = [H3_LEG + a + m for a in ['Hip', 'Knee', 'Ankle'] for m in ['Pos', 'Vel', 'Acc', 'Torque']]\n",
    "targets = ['F' + str(i + 1) + ax for i in range(N_CELLS) for ax in ['x', 'y', 'z']]\n",
    "\n",
    "print('Number of features: {}'.format(len(features)))\n",
    "print('Selected features: {}'.format(features))\n",
    "print('\\n')\n",
    "print('Number of targets: {}'.format(len(targets)))\n",
    "print('Selected targets: {}'.format(targets))"
   ]
  },
  {
   "cell_type": "code",
   "execution_count": 10,
   "id": "approximate-skirt",
   "metadata": {},
   "outputs": [
    {
     "name": "stdout",
     "output_type": "stream",
     "text": [
      "X: (268576, 12), Y: (268576, 24)\n"
     ]
    }
   ],
   "source": [
    "X = features_df[features]\n",
    "Y = targets_df[targets]\n",
    "\n",
    "print('X: {}, Y: {}'.format(X.shape, Y.shape))"
   ]
  },
  {
   "cell_type": "markdown",
   "id": "australian-process",
   "metadata": {},
   "source": [
    "## Nulls handeling, split and normalization"
   ]
  },
  {
   "cell_type": "code",
   "execution_count": 14,
   "id": "established-magic",
   "metadata": {},
   "outputs": [
    {
     "name": "stdout",
     "output_type": "stream",
     "text": [
      "Droping 30 data points by null features\n",
      "X: (268546, 12), Y: (268546, 24)\n"
     ]
    }
   ],
   "source": [
    "# Drop null values\n",
    "idx = X.notna().all(axis=1)\n",
    "print('Droping {} data points by null features'.format(len(idx[idx == False])))\n",
    "\n",
    "X = X.loc[idx].values\n",
    "Y = Y.loc[idx].values\n",
    "print('X: {}, Y: {}'.format(X.shape, Y.shape))"
   ]
  },
  {
   "cell_type": "code",
   "execution_count": 15,
   "id": "minor-professor",
   "metadata": {},
   "outputs": [
    {
     "name": "stdout",
     "output_type": "stream",
     "text": [
      "Train -> X: (187982, 12), Y: (187982, 24)\n",
      "Test -> X: (80564, 12), Y: (80564, 24)\n"
     ]
    }
   ],
   "source": [
    "X_train, X_test, Y_train, Y_test = train_test_split(X, Y, test_size=TEST_SIZE, random_state=0)\n",
    "\n",
    "print('Train -> X: {}, Y: {}'.format(X_train.shape, Y_train.shape))\n",
    "print('Test -> X: {}, Y: {}'.format(X_test.shape, Y_test.shape))"
   ]
  },
  {
   "cell_type": "code",
   "execution_count": 16,
   "id": "digital-endorsement",
   "metadata": {},
   "outputs": [],
   "source": [
    "scaler = StandardScaler().fit(X_train)\n",
    "\n",
    "X_train_norm = scaler.transform(X_train)\n",
    "X_test_norm =  scaler.transform(X_test)"
   ]
  },
  {
   "cell_type": "markdown",
   "id": "shared-columbus",
   "metadata": {},
   "source": [
    "## Save data"
   ]
  },
  {
   "cell_type": "code",
   "execution_count": 17,
   "id": "monthly-sunglasses",
   "metadata": {},
   "outputs": [],
   "source": [
    "save_dir = os.path.join(SOURCE_PATH + DERIVED_DATA_DIR, DATE_EXPERIMENTS)\n",
    "if not os.path.exists(save_dir):\n",
    "    os.makedirs(save_dir)\n",
    "\n",
    "np.save(save_dir + '/X_train_' + RESULTS_ID + '.npy', X_train_norm)    \n",
    "np.save(save_dir + '/X_test_' + RESULTS_ID + '.npy', X_test_norm)    \n",
    "np.save(save_dir + '/Y_train_' + RESULTS_ID + '.npy', Y_train)    \n",
    "np.save(save_dir + '/Y_test_' + RESULTS_ID + '.npy', Y_test)    "
   ]
  },
  {
   "cell_type": "code",
   "execution_count": null,
   "id": "leading-reason",
   "metadata": {},
   "outputs": [],
   "source": []
  }
 ],
 "metadata": {
  "kernelspec": {
   "display_name": "Python 3",
   "language": "python",
   "name": "python3"
  },
  "language_info": {
   "codemirror_mode": {
    "name": "ipython",
    "version": 3
   },
   "file_extension": ".py",
   "mimetype": "text/x-python",
   "name": "python",
   "nbconvert_exporter": "python",
   "pygments_lexer": "ipython3",
   "version": "3.8.5"
  }
 },
 "nbformat": 4,
 "nbformat_minor": 5
}
