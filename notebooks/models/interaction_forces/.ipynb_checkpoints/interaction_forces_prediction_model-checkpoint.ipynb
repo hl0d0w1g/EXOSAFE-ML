{
 "cells": [
  {
   "cell_type": "code",
   "execution_count": 1,
   "metadata": {
    "id": "gisSEwlud_Yn"
   },
   "outputs": [],
   "source": [
    "import numpy as np\n",
    "import os\n",
    "import gc\n",
    "import sys\n",
    "from time import strftime\n",
    "from joblib import dump, load\n",
    "\n",
    "from sklearn.model_selection import GridSearchCV, ParameterGrid, train_test_split\n",
    "from sklearn.metrics import mean_absolute_error, mean_squared_error, r2_score\n",
    "from sklearn.preprocessing import StandardScaler, PolynomialFeatures\n",
    "from sklearn.ensemble import RandomForestRegressor\n",
    "from sklearn.pipeline import Pipeline\n",
    "from sklearn.multioutput import MultiOutputRegressor"
   ]
  },
  {
   "cell_type": "code",
   "execution_count": null,
   "metadata": {},
   "outputs": [],
   "source": [
    "'''\n",
    "from IPython.utils.io import Tee\n",
    "\n",
    "# Redirect all the outputs messages to the terminal and to a log file\n",
    "logs_dir = './logs'\n",
    "logfilename = logs_dir + strftime('/ipython_%Y-%m-%d_%H:%M:%S') + '.log' \n",
    "if not os.path.exists(logs_dir):\n",
    "    os.makedirs(logs_dir)\n",
    "    \n",
    "sys.stdout = open('/dev/stdout', 'w')\n",
    "Tee(logfilename, mode='w', channel='stdout')\n",
    "'''"
   ]
  },
  {
   "cell_type": "code",
   "execution_count": 2,
   "metadata": {},
   "outputs": [
    {
     "name": "stdout",
     "output_type": "stream",
     "text": [
      "Model training with data: 0001_26032021\n"
     ]
    }
   ],
   "source": [
    "# Path where the data is stored\n",
    "SOURCE_PATH = '../../../data'\n",
    "# Directory inside SOURCE_PATH where the derived data is stored\n",
    "DERIVED_DATA_DIR = '/derived_data'\n",
    "# Experiment params\n",
    "DATE_EXPERIMENT = '24022021'\n",
    "\n",
    "# Number of force cells in the robotic leg\n",
    "N_CELLS = 8\n",
    "\n",
    "# Experiment params\n",
    "DATA_ID = '0001_26032021'\n",
    "\n",
    "print('Model training with data: ' + DATA_ID)"
   ]
  },
  {
   "cell_type": "code",
   "execution_count": 3,
   "metadata": {},
   "outputs": [
    {
     "name": "stdout",
     "output_type": "stream",
     "text": [
      "X train: (187982, 12), Y train: (187982, 24)\n",
      "X test: (80564, 12), Y test: (80564, 24)\n"
     ]
    }
   ],
   "source": [
    "X_train = np.load(os.path.join(SOURCE_PATH + DERIVED_DATA_DIR, DATE_EXPERIMENT, 'X_train_' + DATA_ID + '.npy'))\n",
    "X_test = np.load(os.path.join(SOURCE_PATH + DERIVED_DATA_DIR, DATE_EXPERIMENT, 'X_test_' + DATA_ID + '.npy'))\n",
    "Y_train = np.load(os.path.join(SOURCE_PATH + DERIVED_DATA_DIR, DATE_EXPERIMENT, 'Y_train_' + DATA_ID + '.npy'))\n",
    "Y_test = np.load(os.path.join(SOURCE_PATH + DERIVED_DATA_DIR, DATE_EXPERIMENT, 'Y_test_' + DATA_ID + '.npy'))\n",
    "\n",
    "print('X train: {}, Y train: {}'.format(X_train.shape, Y_train.shape))\n",
    "print('X test: {}, Y test: {}'.format(X_test.shape, Y_test.shape))"
   ]
  },
  {
   "cell_type": "code",
   "execution_count": 4,
   "metadata": {},
   "outputs": [
    {
     "name": "stdout",
     "output_type": "stream",
     "text": [
      "Number of parameters combinations: 1\n"
     ]
    }
   ],
   "source": [
    "# param_grid = {\n",
    "#     'n_estimators': [10, 100, 1000],\n",
    "#     'criterion': ['mae', 'mse'],\n",
    "#     'max_depth': [2, 5, 10, None],\n",
    "# }\n",
    "param_grid = {}\n",
    "\n",
    "print('Number of parameters combinations: {}'.format(len(list(ParameterGrid(param_grid)))))"
   ]
  },
  {
   "cell_type": "code",
   "execution_count": 5,
   "metadata": {},
   "outputs": [
    {
     "name": "stdout",
     "output_type": "stream",
     "text": [
      "Fitting 5 folds for each of 1 candidates, totalling 5 fits\n"
     ]
    },
    {
     "name": "stderr",
     "output_type": "stream",
     "text": [
      "[Parallel(n_jobs=1)]: Using backend SequentialBackend with 1 concurrent workers.\n"
     ]
    },
    {
     "name": "stdout",
     "output_type": "stream",
     "text": [
      "building tree 1 of 100\n"
     ]
    },
    {
     "name": "stderr",
     "output_type": "stream",
     "text": [
      "[Parallel(n_jobs=1)]: Done   1 out of   1 | elapsed:    3.5s remaining:    0.0s\n"
     ]
    },
    {
     "name": "stdout",
     "output_type": "stream",
     "text": [
      "building tree 2 of 100\n"
     ]
    },
    {
     "name": "stderr",
     "output_type": "stream",
     "text": [
      "[Parallel(n_jobs=1)]: Done   2 out of   2 | elapsed:    7.2s remaining:    0.0s\n"
     ]
    },
    {
     "name": "stdout",
     "output_type": "stream",
     "text": [
      "building tree 3 of 100\n"
     ]
    },
    {
     "name": "stderr",
     "output_type": "stream",
     "text": [
      "[Parallel(n_jobs=1)]: Done   3 out of   3 | elapsed:   10.8s remaining:    0.0s\n"
     ]
    },
    {
     "name": "stdout",
     "output_type": "stream",
     "text": [
      "building tree 4 of 100\n"
     ]
    },
    {
     "name": "stderr",
     "output_type": "stream",
     "text": [
      "[Parallel(n_jobs=1)]: Done   4 out of   4 | elapsed:   14.3s remaining:    0.0s\n"
     ]
    },
    {
     "name": "stdout",
     "output_type": "stream",
     "text": [
      "building tree 5 of 100\n"
     ]
    },
    {
     "name": "stderr",
     "output_type": "stream",
     "text": [
      "[Parallel(n_jobs=1)]: Done   5 out of   5 | elapsed:   17.9s remaining:    0.0s\n"
     ]
    },
    {
     "name": "stdout",
     "output_type": "stream",
     "text": [
      "building tree 6 of 100\n"
     ]
    },
    {
     "name": "stderr",
     "output_type": "stream",
     "text": [
      "[Parallel(n_jobs=1)]: Done   6 out of   6 | elapsed:   21.5s remaining:    0.0s\n"
     ]
    },
    {
     "name": "stdout",
     "output_type": "stream",
     "text": [
      "building tree 7 of 100\n"
     ]
    },
    {
     "name": "stderr",
     "output_type": "stream",
     "text": [
      "[Parallel(n_jobs=1)]: Done   7 out of   7 | elapsed:   25.2s remaining:    0.0s\n"
     ]
    },
    {
     "name": "stdout",
     "output_type": "stream",
     "text": [
      "building tree 8 of 100\n"
     ]
    },
    {
     "name": "stderr",
     "output_type": "stream",
     "text": [
      "[Parallel(n_jobs=1)]: Done   8 out of   8 | elapsed:   28.8s remaining:    0.0s\n"
     ]
    },
    {
     "name": "stdout",
     "output_type": "stream",
     "text": [
      "building tree 9 of 100\n"
     ]
    },
    {
     "name": "stderr",
     "output_type": "stream",
     "text": [
      "[Parallel(n_jobs=1)]: Done   9 out of   9 | elapsed:   32.3s remaining:    0.0s\n"
     ]
    },
    {
     "name": "stdout",
     "output_type": "stream",
     "text": [
      "building tree 10 of 100\n",
      "building tree 11 of 100\n",
      "building tree 12 of 100\n",
      "building tree 13 of 100\n",
      "building tree 14 of 100\n",
      "building tree 15 of 100\n",
      "building tree 16 of 100\n",
      "building tree 17 of 100\n",
      "building tree 18 of 100\n",
      "building tree 19 of 100\n",
      "building tree 20 of 100\n",
      "building tree 21 of 100\n",
      "building tree 22 of 100\n",
      "building tree 23 of 100\n",
      "building tree 24 of 100\n",
      "building tree 25 of 100\n",
      "building tree 26 of 100\n",
      "building tree 27 of 100\n",
      "building tree 28 of 100\n",
      "building tree 29 of 100\n",
      "building tree 30 of 100\n",
      "building tree 31 of 100\n",
      "building tree 32 of 100\n",
      "building tree 33 of 100\n",
      "building tree 34 of 100\n",
      "building tree 35 of 100\n",
      "building tree 36 of 100\n",
      "building tree 37 of 100\n",
      "building tree 38 of 100\n",
      "building tree 39 of 100\n",
      "building tree 40 of 100\n",
      "building tree 41 of 100\n",
      "building tree 42 of 100\n",
      "building tree 43 of 100\n",
      "building tree 44 of 100\n",
      "building tree 45 of 100\n",
      "building tree 46 of 100\n",
      "building tree 47 of 100\n",
      "building tree 48 of 100\n",
      "building tree 49 of 100\n",
      "building tree 50 of 100\n",
      "building tree 51 of 100\n",
      "building tree 52 of 100\n",
      "building tree 53 of 100\n",
      "building tree 54 of 100\n",
      "building tree 55 of 100\n",
      "building tree 56 of 100\n",
      "building tree 57 of 100\n",
      "building tree 58 of 100\n",
      "building tree 59 of 100\n",
      "building tree 60 of 100\n",
      "building tree 61 of 100\n",
      "building tree 62 of 100\n",
      "building tree 63 of 100\n",
      "building tree 64 of 100\n",
      "building tree 65 of 100\n",
      "building tree 66 of 100\n",
      "building tree 67 of 100\n",
      "building tree 68 of 100\n",
      "building tree 69 of 100\n",
      "building tree 70 of 100\n",
      "building tree 71 of 100\n",
      "building tree 72 of 100\n",
      "building tree 73 of 100\n",
      "building tree 74 of 100\n",
      "building tree 75 of 100\n",
      "building tree 76 of 100\n",
      "building tree 77 of 100\n",
      "building tree 78 of 100\n",
      "building tree 79 of 100\n",
      "building tree 80 of 100\n",
      "building tree 81 of 100\n",
      "building tree 82 of 100\n",
      "building tree 83 of 100\n",
      "building tree 84 of 100\n",
      "building tree 85 of 100\n",
      "building tree 86 of 100\n",
      "building tree 87 of 100\n",
      "building tree 88 of 100\n",
      "building tree 89 of 100\n",
      "building tree 90 of 100\n",
      "building tree 91 of 100\n",
      "building tree 92 of 100\n",
      "building tree 93 of 100\n",
      "building tree 94 of 100\n",
      "building tree 95 of 100\n",
      "building tree 96 of 100\n",
      "building tree 97 of 100\n",
      "building tree 98 of 100\n",
      "building tree 99 of 100\n",
      "building tree 100 of 100\n",
      "Best params: {}\n"
     ]
    },
    {
     "name": "stderr",
     "output_type": "stream",
     "text": [
      "[Parallel(n_jobs=1)]: Done 100 out of 100 | elapsed:  6.0min finished\n"
     ]
    }
   ],
   "source": [
    "rf = RandomForestRegressor(random_state=0, verbose=10)\n",
    "\n",
    "clf = GridSearchCV(rf, param_grid, cv=5, scoring='neg_mean_squared_error', n_jobs=-1, pre_dispatch=2, verbose=10)\n",
    "clf.fit(X_train, Y_train)\n",
    "\n",
    "print('Best params: {}'.format(clf.best_params_))"
   ]
  },
  {
   "cell_type": "code",
   "execution_count": 12,
   "metadata": {},
   "outputs": [
    {
     "name": "stderr",
     "output_type": "stream",
     "text": [
      "[Parallel(n_jobs=1)]: Using backend SequentialBackend with 1 concurrent workers.\n",
      "[Parallel(n_jobs=1)]: Done   1 out of   1 | elapsed:    0.1s remaining:    0.0s\n",
      "[Parallel(n_jobs=1)]: Done   2 out of   2 | elapsed:    0.2s remaining:    0.0s\n",
      "[Parallel(n_jobs=1)]: Done   3 out of   3 | elapsed:    0.3s remaining:    0.0s\n",
      "[Parallel(n_jobs=1)]: Done   4 out of   4 | elapsed:    0.3s remaining:    0.0s\n",
      "[Parallel(n_jobs=1)]: Done   5 out of   5 | elapsed:    0.4s remaining:    0.0s\n",
      "[Parallel(n_jobs=1)]: Done   6 out of   6 | elapsed:    0.5s remaining:    0.0s\n",
      "[Parallel(n_jobs=1)]: Done   7 out of   7 | elapsed:    0.6s remaining:    0.0s\n",
      "[Parallel(n_jobs=1)]: Done   8 out of   8 | elapsed:    0.6s remaining:    0.0s\n",
      "[Parallel(n_jobs=1)]: Done   9 out of   9 | elapsed:    0.7s remaining:    0.0s\n",
      "[Parallel(n_jobs=1)]: Done 100 out of 100 | elapsed:    7.6s finished\n",
      "[Parallel(n_jobs=1)]: Using backend SequentialBackend with 1 concurrent workers.\n",
      "[Parallel(n_jobs=1)]: Done   1 out of   1 | elapsed:    0.0s remaining:    0.0s\n",
      "[Parallel(n_jobs=1)]: Done   2 out of   2 | elapsed:    0.1s remaining:    0.0s\n",
      "[Parallel(n_jobs=1)]: Done   3 out of   3 | elapsed:    0.1s remaining:    0.0s\n",
      "[Parallel(n_jobs=1)]: Done   4 out of   4 | elapsed:    0.1s remaining:    0.0s\n",
      "[Parallel(n_jobs=1)]: Done   5 out of   5 | elapsed:    0.2s remaining:    0.0s\n",
      "[Parallel(n_jobs=1)]: Done   6 out of   6 | elapsed:    0.2s remaining:    0.0s\n",
      "[Parallel(n_jobs=1)]: Done   7 out of   7 | elapsed:    0.2s remaining:    0.0s\n",
      "[Parallel(n_jobs=1)]: Done   8 out of   8 | elapsed:    0.3s remaining:    0.0s\n",
      "[Parallel(n_jobs=1)]: Done   9 out of   9 | elapsed:    0.3s remaining:    0.0s\n"
     ]
    },
    {
     "name": "stdout",
     "output_type": "stream",
     "text": [
      "Train F1x MAE: 0.7051\n",
      "Train F1x MSE: 2.9155\n",
      "Train F1x R2: 0.9893\n",
      "Train F2x MAE: 0.5305\n",
      "Train F2x MSE: 1.2135\n",
      "Train F2x R2: 0.9942\n",
      "Train F3x MAE: 1.3953\n",
      "Train F3x MSE: 8.3894\n",
      "Train F3x R2: 0.9925\n",
      "Train F4x MAE: 0.8278\n",
      "Train F4x MSE: 3.7786\n",
      "Train F4x R2: 0.9921\n",
      "Train F5x MAE: 0.8482\n",
      "Train F5x MSE: 2.8462\n",
      "Train F5x R2: 0.9910\n",
      "Train F6x MAE: 0.8957\n",
      "Train F6x MSE: 4.0078\n",
      "Train F6x R2: 0.9908\n",
      "Train F7x MAE: 0.7467\n",
      "Train F7x MSE: 3.1684\n",
      "Train F7x R2: 0.9907\n",
      "Train F8x MAE: 0.6402\n",
      "Train F8x MSE: 1.9187\n",
      "Train F8x R2: 0.9886\n",
      "Train F1y MAE: 0.3245\n",
      "Train F1y MSE: 0.4457\n",
      "Train F1y R2: 0.9902\n",
      "Train F2y MAE: 0.3338\n",
      "Train F2y MSE: 0.4469\n",
      "Train F2y R2: 0.9899\n",
      "Train F3y MAE: 1.6683\n",
      "Train F3y MSE: 8.4832\n",
      "Train F3y R2: 0.9866\n",
      "Train F4y MAE: 1.3202\n",
      "Train F4y MSE: 9.2200\n",
      "Train F4y R2: 0.9925\n",
      "Train F5y MAE: 1.4666\n",
      "Train F5y MSE: 13.1140\n",
      "Train F5y R2: 0.9933\n",
      "Train F6y MAE: 0.4139\n",
      "Train F6y MSE: 0.6250\n",
      "Train F6y R2: 0.9869\n",
      "Train F7y MAE: 0.4133\n",
      "Train F7y MSE: 0.7396\n",
      "Train F7y R2: 0.9861\n",
      "Train F8y MAE: 0.6115\n",
      "Train F8y MSE: 1.6195\n",
      "Train F8y R2: 0.9899\n",
      "Train F1z MAE: 0.6098\n",
      "Train F1z MSE: 2.1857\n",
      "Train F1z R2: 0.9922\n",
      "Train F2z MAE: 0.4772\n",
      "Train F2z MSE: 1.3225\n",
      "Train F2z R2: 0.9940\n",
      "Train F3z MAE: 1.2959\n",
      "Train F3z MSE: 6.5220\n",
      "Train F3z R2: 0.9911\n",
      "Train F4z MAE: 1.6168\n",
      "Train F4z MSE: 17.9475\n",
      "Train F4z R2: 0.9934\n",
      "Train F5z MAE: 1.2713\n",
      "Train F5z MSE: 6.8668\n",
      "Train F5z R2: 0.9900\n",
      "Train F6z MAE: 1.0940\n",
      "Train F6z MSE: 5.2384\n",
      "Train F6z R2: 0.9918\n",
      "Train F7z MAE: 1.0711\n",
      "Train F7z MSE: 5.7694\n",
      "Train F7z R2: 0.9911\n",
      "Train F8z MAE: 0.7164\n",
      "Train F8z MSE: 2.6174\n",
      "Train F8z R2: 0.9940\n",
      "Test F1x MAE: 1.8737\n",
      "Test F1x MSE: 20.3104\n",
      "Test F1x R2: 0.9254\n",
      "Test F2x MAE: 1.4229\n",
      "Test F2x MSE: 8.6459\n",
      "Test F2x R2: 0.9591\n",
      "Test F3x MAE: 3.7198\n",
      "Test F3x MSE: 58.6706\n",
      "Test F3x R2: 0.9475\n",
      "Test F4x MAE: 2.2293\n",
      "Test F4x MSE: 27.6527\n",
      "Test F4x R2: 0.9415\n",
      "Test F5x MAE: 2.2620\n",
      "Test F5x MSE: 19.5206\n",
      "Test F5x R2: 0.9382\n",
      "Test F6x MAE: 2.3932\n",
      "Test F6x MSE: 28.8925\n",
      "Test F6x R2: 0.9327\n",
      "Test F7x MAE: 1.9887\n",
      "Test F7x MSE: 22.5575\n",
      "Test F7x R2: 0.9327\n",
      "Test F8x MAE: 1.7206\n",
      "Test F8x MSE: 13.6853\n",
      "Test F8x R2: 0.9179\n",
      "Test F1y MAE: 0.8637\n",
      "Test F1y MSE: 3.1172\n",
      "Test F1y R2: 0.9306\n",
      "Test F2y MAE: 0.8915\n",
      "Test F2y MSE: 3.1225\n",
      "Test F2y R2: 0.9294\n",
      "Test F3y MAE: 4.4754\n",
      "Test F3y MSE: 60.0865\n",
      "Test F3y R2: 0.9043\n",
      "Test F4y MAE: 3.5331\n",
      "Test F4y MSE: 65.4244\n",
      "Test F4y R2: 0.9457\n",
      "Test F5y MAE: 3.9327\n",
      "Test F5y MSE: 89.8513\n",
      "Test F5y R2: 0.9541\n",
      "Test F6y MAE: 1.0990\n",
      "Test F6y MSE: 4.2280\n",
      "Test F6y R2: 0.9111\n",
      "Test F7y MAE: 1.0966\n",
      "Test F7y MSE: 5.0678\n",
      "Test F7y R2: 0.9034\n",
      "Test F8y MAE: 1.6332\n",
      "Test F8y MSE: 11.1512\n",
      "Test F8y R2: 0.9310\n",
      "Test F1z MAE: 1.6203\n",
      "Test F1z MSE: 15.3313\n",
      "Test F1z R2: 0.9453\n",
      "Test F2z MAE: 1.2702\n",
      "Test F2z MSE: 9.0781\n",
      "Test F2z R2: 0.9595\n",
      "Test F3z MAE: 3.4981\n",
      "Test F3z MSE: 46.8295\n",
      "Test F3z R2: 0.9360\n",
      "Test F4z MAE: 4.3044\n",
      "Test F4z MSE: 127.8112\n",
      "Test F4z R2: 0.9529\n",
      "Test F5z MAE: 3.3904\n",
      "Test F5z MSE: 46.3782\n",
      "Test F5z R2: 0.9319\n",
      "Test F6z MAE: 2.8966\n",
      "Test F6z MSE: 36.2612\n",
      "Test F6z R2: 0.9430\n",
      "Test F7z MAE: 2.8498\n",
      "Test F7z MSE: 40.5193\n",
      "Test F7z R2: 0.9374\n",
      "Test F8z MAE: 1.9169\n",
      "Test F8z MSE: 18.9198\n",
      "Test F8z R2: 0.9567\n",
      "\n",
      "\n",
      "Train Fx MAE: 0.8237 ± 0.2429\n",
      "Train Fx MSE: 3.5298 ± 2.0262\n",
      "Train Fx R2: 0.9912 ± 0.0017\n",
      "Train Fy MAE: 0.8190 ± 0.5296\n",
      "Train Fy MSE: 4.3367 ± 4.7756\n",
      "Train Fy R2: 0.9894 ± 0.0025\n",
      "Train Fz MAE: 1.0191 ± 0.3638\n",
      "Train Fz MSE: 6.0587 ± 4.9021\n",
      "Train Fz R2: 0.9922 ± 0.0014\n",
      "Test Fx MAE: 2.2013 ± 0.6458\n",
      "Test Fx MSE: 24.9919 ± 14.1834\n",
      "Test Fx R2: 0.9369 ± 0.0120\n",
      "Test Fy MAE: 2.1906 ± 1.4232\n",
      "Test Fy MSE: 30.2561 ± 33.2188\n",
      "Test Fy R2: 0.9262 ± 0.0175\n",
      "Test Fz MAE: 2.7183 ± 0.9727\n",
      "Test Fz MSE: 42.6411 ± 34.9386\n",
      "Test Fz R2: 0.9453 ± 0.0095\n"
     ]
    },
    {
     "name": "stderr",
     "output_type": "stream",
     "text": [
      "[Parallel(n_jobs=1)]: Done 100 out of 100 | elapsed:    3.1s finished\n"
     ]
    }
   ],
   "source": [
    "train_preds = clf.best_estimator_.predict(X_train)\n",
    "test_preds = clf.best_estimator_.predict(X_test)\n",
    "\n",
    "results = {\n",
    "    'Train': {\n",
    "        'MAE': mean_absolute_error(Y_train, train_preds, multioutput='raw_values'),\n",
    "        'MSE': mean_squared_error(Y_train, train_preds, multioutput='raw_values'),\n",
    "        'R2': r2_score(Y_train, train_preds, multioutput='raw_values')\n",
    "    },\n",
    "    'Test': {\n",
    "        'MAE': mean_absolute_error(Y_test, test_preds, multioutput='raw_values'),\n",
    "        'MSE': mean_squared_error(Y_test, test_preds, multioutput='raw_values'),\n",
    "        'R2': r2_score(Y_test, test_preds, multioutput='raw_values')\n",
    "    }       \n",
    "    \n",
    "}\n",
    "\n",
    "for subset in ['Train', 'Test']:\n",
    "    for f, force in enumerate(['Fx', 'Fy', 'Fz']):\n",
    "        for c in range(N_CELLS):\n",
    "            for loss in ['MAE', 'MSE', 'R2']:\n",
    "                scores = [results[subset][loss][i + f] for i in range(0, N_CELLS * 3, 3)]\n",
    "                print('{} {}{}{} {}: {:.4f}'.format(subset, force[0], c + 1, force[-1], loss, scores[c]))\n",
    "            \n",
    "print('\\n')\n",
    "\n",
    "for subset in ['Train', 'Test']:\n",
    "    for f, force in enumerate(['Fx', 'Fy', 'Fz']):\n",
    "        for loss in ['MAE', 'MSE', 'R2']:\n",
    "            scores = [results[subset][loss][i + f] for i in range(0, N_CELLS * 3, 3)]\n",
    "            print(' '.join([subset, force, loss]) + ': {:.4f} ± {:.4f}'.format(np.mean(scores), np.std(scores)))"
   ]
  },
  {
   "cell_type": "code",
   "execution_count": null,
   "metadata": {},
   "outputs": [],
   "source": [
    "# Save the model\n",
    "dump(clf, os.path.join(SOURCE_PATH + DERIVED_DATA_DIR, DATE_EXPERIMENT, 'model_' + DATA_ID + '.joblib')) "
   ]
  },
  {
   "cell_type": "code",
   "execution_count": null,
   "metadata": {
    "colab": {
     "base_uri": "https://localhost:8080/",
     "height": 1000
    },
    "id": "nHfVPDVvXkbN",
    "outputId": "f8554b78-bad2-48ea-f8f8-5eead89f387d"
   },
   "outputs": [],
   "source": [
    "'''\n",
    "\n",
    "param_grid = {}\n",
    "#     'n_estimators': [10, 20, 50, 100, 500],\n",
    "#     'criterion': ['mse', 'mae'],\n",
    "#     'max_depth': [1, 2, 5, 10],\n",
    "\n",
    "# }\n",
    "\n",
    "for t in range(Y_train.shape[1]):\n",
    "    target = targets_names[t]\n",
    "    rf = RandomForestRegressor(random_state=0)\n",
    "\n",
    "    clf = GridSearchCV(rf, param_grid, cv=5, scoring='neg_mean_squared_error', n_jobs=8)\n",
    "    clf.fit(X_train, Y_train[:, t])\n",
    "\n",
    "    #print('Best params: {}'.format(clf.best_params_))\n",
    "\n",
    "\n",
    "    test_preds = clf.best_estimator_.predict(X_test)\n",
    "\n",
    "    # print('{} train MAE: {}'.format(target, mean_absolute_error(Y_train[:, t], clf.best_estimator_.predict(X_train_norm))))\n",
    "    # print('{} train MSE: {}'.format(target, mean_squared_error(Y_train[:, t], clf.best_estimator_.predict(X_train_norm))))\n",
    "    # print('{} train R2: {}'.format(target, r2_score(Y_train[:, t], clf.best_estimator_.predict(X_train_norm))))\n",
    "\n",
    "    print('{} test MAE: {}'.format(target, mean_absolute_error(Y_test[:, t], test_preds)))\n",
    "    print('{} test MSE: {}'.format(target, mean_squared_error(Y_test[:, t], test_preds)))\n",
    "    print('{} test R2: {}'.format(target, r2_score(Y_test[:, t], test_preds)))\n",
    "    \n",
    "    print()\n",
    "    print('///////////////////////////////////////////////////')\n",
    "    print()\n",
    "    gc.collect()\n",
    "    \n",
    "'''"
   ]
  },
  {
   "cell_type": "code",
   "execution_count": null,
   "metadata": {
    "id": "7KiYjCavJo5x"
   },
   "outputs": [],
   "source": []
  }
 ],
 "metadata": {
  "colab": {
   "collapsed_sections": [],
   "name": "attempt_2.ipynb",
   "provenance": []
  },
  "kernelspec": {
   "display_name": "Python 3",
   "language": "python",
   "name": "python3"
  },
  "language_info": {
   "codemirror_mode": {
    "name": "ipython",
    "version": 3
   },
   "file_extension": ".py",
   "mimetype": "text/x-python",
   "name": "python",
   "nbconvert_exporter": "python",
   "pygments_lexer": "ipython3",
   "version": "3.8.5"
  }
 },
 "nbformat": 4,
 "nbformat_minor": 4
}
