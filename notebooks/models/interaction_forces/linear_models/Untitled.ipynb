{
 "cells": [
  {
   "cell_type": "code",
   "execution_count": 1,
   "id": "dental-swimming",
   "metadata": {},
   "outputs": [],
   "source": [
    "import pandas as pd\n",
    "import numpy as np\n",
    "import time\n",
    "import os\n",
    "import glob\n",
    "import json\n",
    "from collections import defaultdict\n",
    "from sklearn.metrics import mean_absolute_error, mean_squared_error, r2_score\n",
    "from sklearn.linear_model import LinearRegression, Ridge, Lasso, ElasticNet\n",
    "from sklearn.neighbors import KNeighborsRegressor\n",
    "from sklearn.preprocessing import StandardScaler, PolynomialFeatures\n",
    "from sklearn.pipeline import Pipeline\n",
    "from sklearn.feature_selection import SelectKBest, f_regression"
   ]
  },
  {
   "cell_type": "markdown",
   "id": "guided-instrumentation",
   "metadata": {},
   "source": [
    "## Configuration"
   ]
  },
  {
   "cell_type": "code",
   "execution_count": 2,
   "id": "composite-attention",
   "metadata": {},
   "outputs": [
    {
     "name": "stdout",
     "output_type": "stream",
     "text": [
      "Model trained with data: 0005_19042021\n"
     ]
    }
   ],
   "source": [
    "# Number of force cells in the robotic leg\n",
    "N_CELLS = 8\n",
    "\n",
    "# Path where the results are stored\n",
    "RESULTS_PATH = '../../../../results'\n",
    "# ID of the training and test data resulting from this notebook, stored in RESULTS_PATH\n",
    "DATA_ID = '0005_19042021'\n",
    "# Number of folds in cross-validation\n",
    "CV = 6\n",
    "\n",
    "print('Model trained with data: ' + DATA_ID)"
   ]
  },
  {
   "cell_type": "markdown",
   "id": "herbal-allowance",
   "metadata": {},
   "source": [
    "## Model"
   ]
  },
  {
   "cell_type": "code",
   "execution_count": 3,
   "id": "bright-possibility",
   "metadata": {},
   "outputs": [
    {
     "name": "stdout",
     "output_type": "stream",
     "text": [
      "Train -> X: (943372, 15), Y: (943372, 24)\n",
      "Test -> X: (161200, 15), Y: (161200, 24)\n"
     ]
    }
   ],
   "source": [
    "# Load data\n",
    "X_train = np.load(os.path.join(RESULTS_PATH, DATA_ID, 'data', 'X_train_{}.npy'.format(DATA_ID)))\n",
    "X_test = np.load(os.path.join(RESULTS_PATH, DATA_ID, 'data', 'X_test_{}.npy'.format(DATA_ID)))\n",
    "Y_train = np.load(os.path.join(RESULTS_PATH, DATA_ID, 'data', 'Y_train_{}.npy'.format(DATA_ID)))\n",
    "Y_test = np.load(os.path.join(RESULTS_PATH, DATA_ID, 'data', 'Y_test_{}.npy'.format(DATA_ID)))\n",
    "\n",
    "print('Train -> X: {}, Y: {}'.format(X_train.shape, Y_train.shape))\n",
    "print('Test -> X: {}, Y: {}'.format(X_test.shape, Y_test.shape))\n",
    "\n",
    "results_ls = []"
   ]
  },
  {
   "cell_type": "code",
   "execution_count": 4,
   "id": "proved-motivation",
   "metadata": {},
   "outputs": [
    {
     "name": "stdout",
     "output_type": "stream",
     "text": [
      "Train -> X: (104820, 15), Y: (104820, 24)\n",
      "Test -> X: (161200, 15), Y: (161200, 24)\n"
     ]
    }
   ],
   "source": [
    "train_samples = X_train.shape[0]\n",
    "step = int(train_samples / 100000)\n",
    "idx = list(range(0, train_samples, step))\n",
    "X_train = X_train[idx, :]\n",
    "Y_train = Y_train[idx, :]\n",
    "\n",
    "print('Train -> X: {}, Y: {}'.format(X_train.shape, Y_train.shape))\n",
    "print('Test -> X: {}, Y: {}'.format(X_test.shape, Y_test.shape))"
   ]
  },
  {
   "cell_type": "code",
   "execution_count": 9,
   "id": "instant-mortgage",
   "metadata": {},
   "outputs": [
    {
     "name": "stdout",
     "output_type": "stream",
     "text": [
      "Training time: 42.6647\n",
      "Train Fx MAE: 10.5679 ± 3.4259\n",
      "Train Fx MSE: 227.7914 ± 150.4241\n",
      "Train Fx R2: 0.2524 ± 0.0883\n",
      "Train Fy MAE: 8.6873 ± 5.2562\n",
      "Train Fy MSE: 224.8037 ± 254.7939\n",
      "Train Fy R2: 0.1711 ± 0.0898\n",
      "Train Fz MAE: 16.8071 ± 6.4160\n",
      "Train Fz MSE: 571.2945 ± 501.8593\n",
      "Train Fz R2: 0.2344 ± 0.1045\n",
      "Test Fx MAE: 13.3392 ± 4.7360\n",
      "Test Fx MSE: 377.4630 ± 253.5305\n",
      "Test Fx R2: -0.1802 ± 0.2329\n",
      "Test Fy MAE: 11.0378 ± 7.5093\n",
      "Test Fy MSE: 384.7738 ± 478.5655\n",
      "Test Fy R2: -0.1330 ± 0.1521\n",
      "Test Fz MAE: 20.6163 ± 9.0945\n",
      "Test Fz MSE: 1090.4435 ± 1262.4685\n",
      "Test Fz R2: -0.4018 ± 0.5295\n"
     ]
    }
   ],
   "source": [
    "params = {\n",
    "    'alpha': 0.0001\n",
    "}\n",
    "\n",
    "results = defaultdict(list)\n",
    "\n",
    "tr_time = []\n",
    "for target in range(Y_train.shape[1]):\n",
    "\n",
    "    model = Lasso(**params, fit_intercept=True, random_state=0)\n",
    "    \n",
    "    t_start = time.time()\n",
    "    model.fit(X_train, Y_train[:, target])\n",
    "    tr_time.append(time.time() - t_start)\n",
    "    \n",
    "    train_preds = model.predict(X_train)\n",
    "    test_preds = model.predict(X_test)\n",
    "\n",
    "    results['Train_MAE'].append(mean_absolute_error(Y_train[:, target], train_preds))\n",
    "    results['Train_MSE'].append(mean_squared_error(Y_train[:, target], train_preds))\n",
    "    results['Train_R2'].append(r2_score(Y_train[:, target], train_preds))\n",
    "    results['Test_MAE'].append(mean_absolute_error(Y_test[:, target], test_preds))\n",
    "    results['Test_MSE'].append(mean_squared_error(Y_test[:, target], test_preds))\n",
    "    results['Test_R2'].append(r2_score(Y_test[:, target], test_preds))\n",
    "    \n",
    "print('Training time: {:.4f}'.format(sum(tr_time)))\n",
    "\n",
    "results_summary = {}\n",
    "results_summary['Training time'] = sum(tr_time)\n",
    "# Display the score mean and standard deviation of each axis\n",
    "for subset in ['Train', 'Test']:\n",
    "    for f, force in enumerate(['Fx', 'Fy', 'Fz']):\n",
    "        for loss in ['MAE', 'MSE', 'R2']:\n",
    "            scores = [results['_'.join([subset, loss])][i + f] for i in range(0, N_CELLS * 3, 3)]\n",
    "            print(' '.join([subset, force, loss]) + ': {:.4f} ± {:.4f}'.format(np.mean(scores), np.std(scores)))\n",
    "            results_summary[' '.join([subset, force, loss])] = '{:.4f} ± {:.4f}'.format(np.mean(scores), np.std(scores))\n",
    "            \n",
    "results_ls.append(results_summary)"
   ]
  },
  {
   "cell_type": "code",
   "execution_count": 10,
   "id": "enhanced-liability",
   "metadata": {},
   "outputs": [
    {
     "name": "stdout",
     "output_type": "stream",
     "text": [
      "Training time: 12.3616\n",
      "Train Fx MAE: 7.1672 ± 2.0189\n",
      "Train Fx MSE: 118.7206 ± 67.2790\n",
      "Train Fx R2: 0.5988 ± 0.0679\n",
      "Train Fy MAE: 6.0961 ± 3.3578\n",
      "Train Fy MSE: 111.0135 ± 111.6890\n",
      "Train Fy R2: 0.5308 ± 0.0916\n",
      "Train Fz MAE: 11.1107 ± 3.9863\n",
      "Train Fz MSE: 292.3311 ± 245.6635\n",
      "Train Fz R2: 0.6009 ± 0.0519\n",
      "Test Fx MAE: 11.9623 ± 4.0355\n",
      "Test Fx MSE: 311.9961 ± 201.1686\n",
      "Test Fx R2: 0.0327 ± 0.2088\n",
      "Test Fy MAE: 10.6152 ± 6.7882\n",
      "Test Fy MSE: 375.4253 ± 447.9036\n",
      "Test Fy R2: -0.0912 ± 0.1681\n",
      "Test Fz MAE: 18.3678 ± 8.1868\n",
      "Test Fz MSE: 819.2143 ± 877.1042\n",
      "Test Fz R2: 0.0187 ± 0.1010\n"
     ]
    }
   ],
   "source": [
    "params = {\n",
    "    'n_neighbors': 100\n",
    "}\n",
    "\n",
    "results = defaultdict(list)\n",
    "\n",
    "tr_time = []\n",
    "for target in range(Y_train.shape[1]):\n",
    "\n",
    "    model = KNeighborsRegressor(**params, n_jobs=-1)\n",
    "    \n",
    "    t_start = time.time()\n",
    "    model.fit(X_train, Y_train[:, target])\n",
    "    tr_time.append(time.time() - t_start)\n",
    "    \n",
    "    train_preds = model.predict(X_train)\n",
    "    test_preds = model.predict(X_test)\n",
    "\n",
    "    results['Train_MAE'].append(mean_absolute_error(Y_train[:, target], train_preds))\n",
    "    results['Train_MSE'].append(mean_squared_error(Y_train[:, target], train_preds))\n",
    "    results['Train_R2'].append(r2_score(Y_train[:, target], train_preds))\n",
    "    results['Test_MAE'].append(mean_absolute_error(Y_test[:, target], test_preds))\n",
    "    results['Test_MSE'].append(mean_squared_error(Y_test[:, target], test_preds))\n",
    "    results['Test_R2'].append(r2_score(Y_test[:, target], test_preds))\n",
    "    \n",
    "print('Training time: {:.4f}'.format(sum(tr_time)))\n",
    "\n",
    "results_summary = {}\n",
    "results_summary['Training time'] = sum(tr_time)\n",
    "# Display the score mean and standard deviation of each axis\n",
    "for subset in ['Train', 'Test']:\n",
    "    for f, force in enumerate(['Fx', 'Fy', 'Fz']):\n",
    "        for loss in ['MAE', 'MSE', 'R2']:\n",
    "            scores = [results['_'.join([subset, loss])][i + f] for i in range(0, N_CELLS * 3, 3)]\n",
    "            print(' '.join([subset, force, loss]) + ': {:.4f} ± {:.4f}'.format(np.mean(scores), np.std(scores)))\n",
    "            results_summary[' '.join([subset, force, loss])] = '{:.4f} ± {:.4f}'.format(np.mean(scores), np.std(scores))"
   ]
  },
  {
   "cell_type": "code",
   "execution_count": null,
   "id": "plastic-emphasis",
   "metadata": {},
   "outputs": [],
   "source": []
  }
 ],
 "metadata": {
  "kernelspec": {
   "display_name": "Python 3",
   "language": "python",
   "name": "python3"
  },
  "language_info": {
   "codemirror_mode": {
    "name": "ipython",
    "version": 3
   },
   "file_extension": ".py",
   "mimetype": "text/x-python",
   "name": "python",
   "nbconvert_exporter": "python",
   "pygments_lexer": "ipython3",
   "version": "3.8.5"
  }
 },
 "nbformat": 4,
 "nbformat_minor": 5
}
