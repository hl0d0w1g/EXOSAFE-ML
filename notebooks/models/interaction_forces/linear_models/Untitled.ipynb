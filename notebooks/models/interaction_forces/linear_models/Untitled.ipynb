{
 "cells": [
  {
   "cell_type": "code",
   "execution_count": 1,
   "id": "sunset-research",
   "metadata": {},
   "outputs": [],
   "source": [
    "import pandas as pd\n",
    "import numpy as np\n",
    "import time\n",
    "import os\n",
    "import glob\n",
    "import json\n",
    "from collections import defaultdict\n",
    "from sklearn.metrics import mean_absolute_error, mean_squared_error, r2_score\n",
    "from sklearn.linear_model import LinearRegression, Ridge, Lasso, ElasticNet\n",
    "from sklearn.neighbors import KNeighborsRegressor\n",
    "from sklearn.preprocessing import StandardScaler, PolynomialFeatures\n",
    "from sklearn.pipeline import Pipeline\n",
    "from sklearn.feature_selection import SelectKBest, f_regression"
   ]
  },
  {
   "cell_type": "markdown",
   "id": "accessory-battle",
   "metadata": {},
   "source": [
    "## Configuration"
   ]
  },
  {
   "cell_type": "code",
   "execution_count": 2,
   "id": "damaged-lafayette",
   "metadata": {},
   "outputs": [
    {
     "name": "stdout",
     "output_type": "stream",
     "text": [
      "Model trained with data: 0005_19042021\n"
     ]
    }
   ],
   "source": [
    "# Number of force cells in the robotic leg\n",
    "N_CELLS = 8\n",
    "\n",
    "# Path where the results are stored\n",
    "RESULTS_PATH = '../../../../results'\n",
    "# ID of the training and test data resulting from this notebook, stored in RESULTS_PATH\n",
    "DATA_ID = '0005_19042021'\n",
    "# Number of folds in cross-validation\n",
    "CV = 6\n",
    "\n",
    "print('Model trained with data: ' + DATA_ID)"
   ]
  },
  {
   "cell_type": "markdown",
   "id": "terminal-scholar",
   "metadata": {},
   "source": [
    "## Model"
   ]
  },
  {
   "cell_type": "code",
   "execution_count": 3,
   "id": "gothic-strain",
   "metadata": {},
   "outputs": [
    {
     "name": "stdout",
     "output_type": "stream",
     "text": [
      "Train -> X: (943372, 15), Y: (943372, 24)\n",
      "Test -> X: (161200, 15), Y: (161200, 24)\n"
     ]
    }
   ],
   "source": [
    "# Load data\n",
    "X_train = np.load(os.path.join(RESULTS_PATH, DATA_ID, 'data', 'X_train_{}.npy'.format(DATA_ID)))\n",
    "X_test = np.load(os.path.join(RESULTS_PATH, DATA_ID, 'data', 'X_test_{}.npy'.format(DATA_ID)))\n",
    "Y_train = np.load(os.path.join(RESULTS_PATH, DATA_ID, 'data', 'Y_train_{}.npy'.format(DATA_ID)))\n",
    "Y_test = np.load(os.path.join(RESULTS_PATH, DATA_ID, 'data', 'Y_test_{}.npy'.format(DATA_ID)))\n",
    "\n",
    "print('Train -> X: {}, Y: {}'.format(X_train.shape, Y_train.shape))\n",
    "print('Test -> X: {}, Y: {}'.format(X_test.shape, Y_test.shape))\n",
    "\n",
    "results_ls = []"
   ]
  },
  {
   "cell_type": "code",
   "execution_count": 15,
   "id": "residential-reason",
   "metadata": {},
   "outputs": [
    {
     "name": "stdout",
     "output_type": "stream",
     "text": [
      "Training time: 11.4575\n",
      "Train Fx MAE: 11.2775 ± 3.4866\n",
      "Train Fx MSE: 259.7895 ± 163.8487\n",
      "Train Fx R2: 0.1386 ± 0.0723\n",
      "Train Fy MAE: 9.1404 ± 5.4528\n",
      "Train Fy MSE: 249.1980 ± 279.3197\n",
      "Train Fy R2: 0.0599 ± 0.0715\n",
      "Train Fz MAE: 18.0691 ± 6.8765\n",
      "Train Fz MSE: 663.8754 ± 614.7552\n",
      "Train Fz R2: 0.1173 ± 0.0875\n",
      "Test Fx MAE: 13.2300 ± 5.1843\n",
      "Test Fx MSE: 353.5306 ± 287.0024\n",
      "Test Fx R2: 0.0016 ± 0.0554\n",
      "Test Fy MAE: 10.3156 ± 6.9224\n",
      "Test Fy MSE: 340.7110 ± 422.1517\n",
      "Test Fy R2: 0.0198 ± 0.0314\n",
      "Test Fz MAE: 19.3499 ± 7.9991\n",
      "Test Fz MSE: 823.6057 ± 904.4963\n",
      "Test Fz R2: 0.0008 ± 0.1020\n"
     ]
    }
   ],
   "source": [
    "params = {\n",
    "    'alpha': 0.5\n",
    "}\n",
    "\n",
    "results = defaultdict(list)\n",
    "\n",
    "tr_time = []\n",
    "for target in range(Y_train.shape[1]):\n",
    "\n",
    "    model = Lasso(**params, fit_intercept=True, random_state=0)\n",
    "    \n",
    "    t_start = time.time()\n",
    "    model.fit(X_train, Y_train[:, target])\n",
    "    tr_time.append(time.time() - t_start)\n",
    "    \n",
    "    train_preds = model.predict(X_train)\n",
    "    test_preds = model.predict(X_test)\n",
    "\n",
    "    results['Train_MAE'].append(mean_absolute_error(Y_train[:, target], train_preds))\n",
    "    results['Train_MSE'].append(mean_squared_error(Y_train[:, target], train_preds))\n",
    "    results['Train_R2'].append(r2_score(Y_train[:, target], train_preds))\n",
    "    results['Test_MAE'].append(mean_absolute_error(Y_test[:, target], test_preds))\n",
    "    results['Test_MSE'].append(mean_squared_error(Y_test[:, target], test_preds))\n",
    "    results['Test_R2'].append(r2_score(Y_test[:, target], test_preds))\n",
    "    \n",
    "print('Training time: {:.4f}'.format(sum(tr_time)))\n",
    "\n",
    "results_summary = {}\n",
    "results_summary['Training time'] = sum(tr_time)\n",
    "# Display the score mean and standard deviation of each axis\n",
    "for subset in ['Train', 'Test']:\n",
    "    for f, force in enumerate(['Fx', 'Fy', 'Fz']):\n",
    "        for loss in ['MAE', 'MSE', 'R2']:\n",
    "            scores = [results['_'.join([subset, loss])][i + f] for i in range(0, N_CELLS * 3, 3)]\n",
    "            print(' '.join([subset, force, loss]) + ': {:.4f} ± {:.4f}'.format(np.mean(scores), np.std(scores)))\n",
    "            results_summary[' '.join([subset, force, loss])] = '{:.4f} ± {:.4f}'.format(np.mean(scores), np.std(scores))\n",
    "            \n",
    "results_ls.append(results_summary)"
   ]
  },
  {
   "cell_type": "code",
   "execution_count": 19,
   "id": "closing-psychiatry",
   "metadata": {},
   "outputs": [
    {
     "name": "stdout",
     "output_type": "stream",
     "text": [
      "Training time: 88.8137\n",
      "Train Fx MAE: 2.8867 ± 0.7143\n",
      "Train Fx MSE: 34.1048 ± 17.0101\n",
      "Train Fx R2: 0.8816 ± 0.0231\n",
      "Train Fy MAE: 2.6615 ± 1.3875\n",
      "Train Fy MSE: 33.0138 ± 30.5818\n",
      "Train Fy R2: 0.8418 ± 0.0488\n",
      "Train Fz MAE: 4.1498 ± 1.4302\n",
      "Train Fz MSE: 77.6918 ± 60.9860\n",
      "Train Fz R2: 0.8917 ± 0.0147\n",
      "Test Fx MAE: 12.4319 ± 4.1027\n",
      "Test Fx MSE: 351.8722 ± 224.6564\n",
      "Test Fx R2: -0.1222 ± 0.2788\n",
      "Test Fy MAE: 11.1945 ± 6.9356\n",
      "Test Fy MSE: 411.1543 ± 478.4239\n",
      "Test Fy R2: -0.2516 ± 0.2415\n",
      "Test Fz MAE: 18.3378 ± 8.5301\n",
      "Test Fz MSE: 876.9917 ± 951.1303\n",
      "Test Fz R2: -0.0563 ± 0.1415\n"
     ]
    }
   ],
   "source": [
    "params = {\n",
    "    'n_neighbors': 50\n",
    "}\n",
    "\n",
    "results = defaultdict(list)\n",
    "\n",
    "tr_time = []\n",
    "for target in range(Y_train.shape[1]):\n",
    "\n",
    "    model = KNeighborsRegressor(**params, n_jobs=-1)\n",
    "    \n",
    "    t_start = time.time()\n",
    "    model.fit(X_train, Y_train[:, target])\n",
    "    tr_time.append(time.time() - t_start)\n",
    "    \n",
    "    train_preds = model.predict(X_train)\n",
    "    test_preds = model.predict(X_test)\n",
    "\n",
    "    results['Train_MAE'].append(mean_absolute_error(Y_train[:, target], train_preds))\n",
    "    results['Train_MSE'].append(mean_squared_error(Y_train[:, target], train_preds))\n",
    "    results['Train_R2'].append(r2_score(Y_train[:, target], train_preds))\n",
    "    results['Test_MAE'].append(mean_absolute_error(Y_test[:, target], test_preds))\n",
    "    results['Test_MSE'].append(mean_squared_error(Y_test[:, target], test_preds))\n",
    "    results['Test_R2'].append(r2_score(Y_test[:, target], test_preds))\n",
    "    \n",
    "print('Training time: {:.4f}'.format(sum(tr_time)))\n",
    "\n",
    "results_summary = {}\n",
    "results_summary['Training time'] = sum(tr_time)\n",
    "# Display the score mean and standard deviation of each axis\n",
    "for subset in ['Train', 'Test']:\n",
    "    for f, force in enumerate(['Fx', 'Fy', 'Fz']):\n",
    "        for loss in ['MAE', 'MSE', 'R2']:\n",
    "            scores = [results['_'.join([subset, loss])][i + f] for i in range(0, N_CELLS * 3, 3)]\n",
    "            print(' '.join([subset, force, loss]) + ': {:.4f} ± {:.4f}'.format(np.mean(scores), np.std(scores)))\n",
    "            results_summary[' '.join([subset, force, loss])] = '{:.4f} ± {:.4f}'.format(np.mean(scores), np.std(scores))"
   ]
  },
  {
   "cell_type": "code",
   "execution_count": null,
   "id": "timely-exchange",
   "metadata": {},
   "outputs": [],
   "source": []
  }
 ],
 "metadata": {
  "kernelspec": {
   "display_name": "Python 3",
   "language": "python",
   "name": "python3"
  },
  "language_info": {
   "codemirror_mode": {
    "name": "ipython",
    "version": 3
   },
   "file_extension": ".py",
   "mimetype": "text/x-python",
   "name": "python",
   "nbconvert_exporter": "python",
   "pygments_lexer": "ipython3",
   "version": "3.8.5"
  }
 },
 "nbformat": 4,
 "nbformat_minor": 5
}
