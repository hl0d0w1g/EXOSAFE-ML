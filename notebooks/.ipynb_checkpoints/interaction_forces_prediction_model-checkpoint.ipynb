{
 "cells": [
  {
   "cell_type": "code",
   "execution_count": 1,
   "metadata": {
    "id": "gisSEwlud_Yn"
   },
   "outputs": [],
   "source": [
    "import numpy as np\n",
    "import os\n",
    "import gc\n",
    "\n",
    "from sklearn.model_selection import GridSearchCV, train_test_split\n",
    "from sklearn.metrics import mean_absolute_error, mean_squared_error, r2_score\n",
    "from sklearn.preprocessing import StandardScaler, PolynomialFeatures\n",
    "from sklearn.ensemble import RandomForestRegressor\n",
    "from sklearn.pipeline import Pipeline\n",
    "from sklearn.multioutput import MultiOutputRegressor"
   ]
  },
  {
   "cell_type": "code",
   "execution_count": 2,
   "metadata": {},
   "outputs": [],
   "source": [
    "# Path where the data is stored\n",
    "SOURCE_PATH = '../data'\n",
    "# Directory inside SOURCE_PATH where the derived data is stored\n",
    "DERIVED_DATA_DIR = '/derived_data'\n",
    "\n",
    "# Experiment params\n",
    "DATA_ID = '0001_23032021'"
   ]
  },
  {
   "cell_type": "code",
   "execution_count": 3,
   "metadata": {},
   "outputs": [],
   "source": [
    "X_train = np.load(os.path.join(SOURCE_PATH + DERIVED_DATA_DIR, 'X_train_' + DATA_ID + '.npy'))\n",
    "X_test = np.load(os.path.join(SOURCE_PATH + DERIVED_DATA_DIR, 'X_test_' + DATA_ID + '.npy'))\n",
    "Y_train = np.load(os.path.join(SOURCE_PATH + DERIVED_DATA_DIR, 'Y_train_' + DATA_ID + '.npy'))\n",
    "Y_test = np.load(os.path.join(SOURCE_PATH + DERIVED_DATA_DIR, 'Y_test_' + DATA_ID + '.npy'))"
   ]
  },
  {
   "cell_type": "code",
   "execution_count": 4,
   "metadata": {},
   "outputs": [],
   "source": [
    "N_CELLS = 8\n",
    "targets_names = ['F' + str(i + 1) + ax for i in range(N_CELLS) for ax in ['x', 'y', 'z']]"
   ]
  },
  {
   "cell_type": "code",
   "execution_count": null,
   "metadata": {},
   "outputs": [
    {
     "name": "stdout",
     "output_type": "stream",
     "text": [
      "Fitting 5 folds for each of 24 candidates, totalling 120 fits\n"
     ]
    }
   ],
   "source": [
    "param_grid = {\n",
    "    'n_estimators': [10, 100, 1000],\n",
    "    'criterion': ['mae', 'mse'],\n",
    "    'max_depth': [2, 5, 10, None],\n",
    "}\n",
    "\n",
    "rf = RandomForestRegressor(random_state=0, verbose=10)\n",
    "\n",
    "clf = GridSearchCV(rf, param_grid, cv=5, scoring='neg_mean_squared_error', n_jobs=-1, verbose=10)\n",
    "clf.fit(X_train, Y_train)\n",
    "\n",
    "print('Best params: {}'.format(clf.best_params_))"
   ]
  },
  {
   "cell_type": "code",
   "execution_count": null,
   "metadata": {},
   "outputs": [],
   "source": [
    "train_preds = clf.best_estimator_.predict(X_train)\n",
    "test_preds = clf.best_estimator_.predict(X_test)\n",
    "\n",
    "results = {\n",
    "    'Train': {\n",
    "        'MAE': mean_absolute_error(Y_train, train_preds, multioutput='raw_values'),\n",
    "        'MSE': mean_squared_error(Y_train, train_preds, multioutput='raw_values'),\n",
    "        'R2': r2_score(Y_train, train_preds, multioutput='raw_values')\n",
    "    },\n",
    "    'Test': {\n",
    "        'MAE': mean_absolute_error(Y_test, test_preds, multioutput='raw_values'),\n",
    "        'MSE': mean_squared_error(Y_test, test_preds, multioutput='raw_values'),\n",
    "        'R2': r2_score(Y_test, test_preds, multioutput='raw_values')\n",
    "    }       \n",
    "    \n",
    "}\n",
    "\n",
    "for subset in ['Train', 'Test']:\n",
    "    for f, force in enumerate(['Fx', 'Fy', 'Fz']):\n",
    "        for err in ['MAE', 'MSE', 'R2']:\n",
    "            scores = [results[subset][err][i + f] for i in range(0, N_CELLS * 3, 3)]\n",
    "            print(' '.join([subset, force, err]) + ': {:.4f} ± {:.4f}'.format(np.mean(scores), np.std(scores)))"
   ]
  },
  {
   "cell_type": "code",
   "execution_count": null,
   "metadata": {
    "colab": {
     "base_uri": "https://localhost:8080/",
     "height": 1000
    },
    "id": "nHfVPDVvXkbN",
    "outputId": "f8554b78-bad2-48ea-f8f8-5eead89f387d"
   },
   "outputs": [],
   "source": [
    "'''\n",
    "\n",
    "param_grid = {}\n",
    "#     'n_estimators': [10, 20, 50, 100, 500],\n",
    "#     'criterion': ['mse', 'mae'],\n",
    "#     'max_depth': [1, 2, 5, 10],\n",
    "\n",
    "# }\n",
    "\n",
    "for t in range(Y_train.shape[1]):\n",
    "    target = targets_names[t]\n",
    "    rf = RandomForestRegressor(random_state=0)\n",
    "\n",
    "    clf = GridSearchCV(rf, param_grid, cv=5, scoring='neg_mean_squared_error', n_jobs=8)\n",
    "    clf.fit(X_train, Y_train[:, t])\n",
    "\n",
    "    #print('Best params: {}'.format(clf.best_params_))\n",
    "\n",
    "\n",
    "    test_preds = clf.best_estimator_.predict(X_test)\n",
    "\n",
    "    # print('{} train MAE: {}'.format(target, mean_absolute_error(Y_train[:, t], clf.best_estimator_.predict(X_train_norm))))\n",
    "    # print('{} train MSE: {}'.format(target, mean_squared_error(Y_train[:, t], clf.best_estimator_.predict(X_train_norm))))\n",
    "    # print('{} train R2: {}'.format(target, r2_score(Y_train[:, t], clf.best_estimator_.predict(X_train_norm))))\n",
    "\n",
    "    print('{} test MAE: {}'.format(target, mean_absolute_error(Y_test[:, t], test_preds)))\n",
    "    print('{} test MSE: {}'.format(target, mean_squared_error(Y_test[:, t], test_preds)))\n",
    "    print('{} test R2: {}'.format(target, r2_score(Y_test[:, t], test_preds)))\n",
    "    \n",
    "    print()\n",
    "    print('///////////////////////////////////////////////////')\n",
    "    print()\n",
    "    gc.collect()\n",
    "    \n",
    "'''"
   ]
  },
  {
   "cell_type": "code",
   "execution_count": null,
   "metadata": {
    "id": "7KiYjCavJo5x"
   },
   "outputs": [],
   "source": []
  }
 ],
 "metadata": {
  "colab": {
   "collapsed_sections": [],
   "name": "attempt_2.ipynb",
   "provenance": []
  },
  "kernelspec": {
   "display_name": "Python 3",
   "language": "python",
   "name": "python3"
  },
  "language_info": {
   "codemirror_mode": {
    "name": "ipython",
    "version": 3
   },
   "file_extension": ".py",
   "mimetype": "text/x-python",
   "name": "python",
   "nbconvert_exporter": "python",
   "pygments_lexer": "ipython3",
   "version": "3.8.5"
  }
 },
 "nbformat": 4,
 "nbformat_minor": 4
}
