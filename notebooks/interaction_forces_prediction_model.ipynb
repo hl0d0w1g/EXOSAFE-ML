{
 "cells": [
  {
   "cell_type": "code",
   "execution_count": 1,
   "metadata": {
    "id": "gisSEwlud_Yn"
   },
   "outputs": [],
   "source": [
    "import numpy as np\n",
    "import os\n",
    "import gc\n",
    "\n",
    "from sklearn.model_selection import GridSearchCV, train_test_split\n",
    "from sklearn.metrics import mean_absolute_error, mean_squared_error, r2_score\n",
    "from sklearn.preprocessing import StandardScaler, PolynomialFeatures\n",
    "from sklearn.ensemble import RandomForestRegressor\n",
    "from sklearn.pipeline import Pipeline\n",
    "from sklearn.multioutput import MultiOutputRegressor"
   ]
  },
  {
   "cell_type": "code",
   "execution_count": 2,
   "metadata": {},
   "outputs": [],
   "source": [
    "# Path where the data is stored\n",
    "SOURCE_PATH = '../../data'\n",
    "# Directory inside SOURCE_PATH where the derived data is stored\n",
    "MODEL_DATA_DIR = '/models_data'\n",
    "\n",
    "# Experiment params\n",
    "DATA_CODE = '0001_16032021'"
   ]
  },
  {
   "cell_type": "code",
   "execution_count": 3,
   "metadata": {},
   "outputs": [],
   "source": [
    "X_train = np.load(os.path.join(SOURCE_PATH + MODEL_DATA_DIR, DATA_CODE, 'X_train.npy'))\n",
    "X_test = np.load(os.path.join(SOURCE_PATH + MODEL_DATA_DIR, DATA_CODE, 'X_test.npy'))\n",
    "Y_train = np.load(os.path.join(SOURCE_PATH + MODEL_DATA_DIR, DATA_CODE, 'Y_train.npy'))\n",
    "Y_test = np.load(os.path.join(SOURCE_PATH + MODEL_DATA_DIR, DATA_CODE, 'Y_test.npy'))"
   ]
  },
  {
   "cell_type": "code",
   "execution_count": 4,
   "metadata": {},
   "outputs": [],
   "source": [
    "N_CELLS = 8\n",
    "targets_names = ['F' + str(i + 1) + ax for i in range(N_CELLS) for ax in ['x', 'y', 'z']]"
   ]
  },
  {
   "cell_type": "code",
   "execution_count": 5,
   "metadata": {},
   "outputs": [
    {
     "ename": "NameError",
     "evalue": "name 'target' is not defined",
     "output_type": "error",
     "traceback": [
      "\u001b[0;31m---------------------------------------------------------------------------\u001b[0m",
      "\u001b[0;31mNameError\u001b[0m                                 Traceback (most recent call last)",
      "\u001b[0;32m<ipython-input-5-54d9ba0077bc>\u001b[0m in \u001b[0;36m<module>\u001b[0;34m\u001b[0m\n\u001b[1;32m     15\u001b[0m \u001b[0;31m# print('{} train R2: {}'.format(target, r2_score(Y_train[:, t], clf.best_estimator_.predict(X_train_norm))))\u001b[0m\u001b[0;34m\u001b[0m\u001b[0;34m\u001b[0m\u001b[0;34m\u001b[0m\u001b[0m\n\u001b[1;32m     16\u001b[0m \u001b[0;34m\u001b[0m\u001b[0m\n\u001b[0;32m---> 17\u001b[0;31m \u001b[0mprint\u001b[0m\u001b[0;34m(\u001b[0m\u001b[0;34m'{} test MAE: {}'\u001b[0m\u001b[0;34m.\u001b[0m\u001b[0mformat\u001b[0m\u001b[0;34m(\u001b[0m\u001b[0mtarget\u001b[0m\u001b[0;34m,\u001b[0m \u001b[0mmean_absolute_error\u001b[0m\u001b[0;34m(\u001b[0m\u001b[0mY_test\u001b[0m\u001b[0;34m[\u001b[0m\u001b[0;34m:\u001b[0m\u001b[0;34m,\u001b[0m \u001b[0mt\u001b[0m\u001b[0;34m]\u001b[0m\u001b[0;34m,\u001b[0m \u001b[0mtest_preds\u001b[0m\u001b[0;34m)\u001b[0m\u001b[0;34m)\u001b[0m\u001b[0;34m)\u001b[0m\u001b[0;34m\u001b[0m\u001b[0;34m\u001b[0m\u001b[0m\n\u001b[0m\u001b[1;32m     18\u001b[0m \u001b[0mprint\u001b[0m\u001b[0;34m(\u001b[0m\u001b[0;34m'{} test MSE: {}'\u001b[0m\u001b[0;34m.\u001b[0m\u001b[0mformat\u001b[0m\u001b[0;34m(\u001b[0m\u001b[0mtarget\u001b[0m\u001b[0;34m,\u001b[0m \u001b[0mmean_squared_error\u001b[0m\u001b[0;34m(\u001b[0m\u001b[0mY_test\u001b[0m\u001b[0;34m[\u001b[0m\u001b[0;34m:\u001b[0m\u001b[0;34m,\u001b[0m \u001b[0mt\u001b[0m\u001b[0;34m]\u001b[0m\u001b[0;34m,\u001b[0m \u001b[0mtest_preds\u001b[0m\u001b[0;34m)\u001b[0m\u001b[0;34m)\u001b[0m\u001b[0;34m)\u001b[0m\u001b[0;34m\u001b[0m\u001b[0;34m\u001b[0m\u001b[0m\n\u001b[1;32m     19\u001b[0m \u001b[0mprint\u001b[0m\u001b[0;34m(\u001b[0m\u001b[0;34m'{} test R2: {}'\u001b[0m\u001b[0;34m.\u001b[0m\u001b[0mformat\u001b[0m\u001b[0;34m(\u001b[0m\u001b[0mtarget\u001b[0m\u001b[0;34m,\u001b[0m \u001b[0mr2_score\u001b[0m\u001b[0;34m(\u001b[0m\u001b[0mY_test\u001b[0m\u001b[0;34m[\u001b[0m\u001b[0;34m:\u001b[0m\u001b[0;34m,\u001b[0m \u001b[0mt\u001b[0m\u001b[0;34m]\u001b[0m\u001b[0;34m,\u001b[0m \u001b[0mtest_preds\u001b[0m\u001b[0;34m)\u001b[0m\u001b[0;34m)\u001b[0m\u001b[0;34m)\u001b[0m\u001b[0;34m\u001b[0m\u001b[0;34m\u001b[0m\u001b[0m\n",
      "\u001b[0;31mNameError\u001b[0m: name 'target' is not defined"
     ]
    }
   ],
   "source": [
    "param_grid = {}\n",
    "\n",
    "rf = RandomForestRegressor(random_state=0, verbose=1)\n",
    "\n",
    "clf = GridSearchCV(rf, param_grid, cv=5, scoring='neg_mean_squared_error', n_jobs=8)\n",
    "clf.fit(X_train, Y_train)\n",
    "\n",
    "#print('Best params: {}'.format(clf.best_params_))\n",
    "\n",
    "\n",
    "test_preds = clf.best_estimator_.predict(X_test)\n",
    "\n",
    "# print('{} train MAE: {}'.format(target, mean_absolute_error(Y_train[:, t], clf.best_estimator_.predict(X_train_norm))))\n",
    "# print('{} train MSE: {}'.format(target, mean_squared_error(Y_train[:, t], clf.best_estimator_.predict(X_train_norm))))\n",
    "# print('{} train R2: {}'.format(target, r2_score(Y_train[:, t], clf.best_estimator_.predict(X_train_norm))))\n",
    "\n",
    "print('Test MAE: {}'.format(mean_absolute_error(Y_test, test_preds, multioutput='raw_values')))\n",
    "print('Test MSE: {}'.format(mean_squared_error(Y_test, test_preds, multioutput='raw_values')))\n",
    "print('Test R2: {}'.format(r2_score(Y_test, test_preds, multioutput='raw_values')))"
   ]
  },
  {
   "cell_type": "code",
   "execution_count": 9,
   "metadata": {},
   "outputs": [
    {
     "name": "stdout",
     "output_type": "stream",
     "text": [
      "Test MAE: [1.28694339 0.77339846 1.05485009 1.11485601 1.82559902 1.28491778\n",
      " 2.53563567 3.71303626 3.66258364 1.63073189 1.64968317 3.24157045\n",
      " 2.37733029 2.2583988  3.11246761 1.4190731  0.81697227 2.92157832\n",
      " 1.32897959 0.80830422 2.51804885 1.69890944 1.88767976 2.41202313]\n",
      "Test MSE: [ 4.9138306   1.90000064  3.68335857  3.05650634  9.98354209  4.6130214\n",
      " 16.94511184 39.47145444 37.57713399  7.16417488  6.80970275 38.83396075\n",
      " 13.83451015 13.29925191 25.48228908  5.42941154  1.92040576 25.13511472\n",
      "  4.99711889  1.66397013 18.06365393  7.86217717  8.99565273 17.06833691]\n",
      "Test R2: [0.92275832 0.93405181 0.930773   0.88829958 0.93191741 0.95662695\n",
      " 0.91886427 0.91680455 0.91390282 0.88947001 0.91359503 0.92959217\n",
      " 0.91973503 0.94572267 0.92324048 0.91100526 0.89680181 0.91965442\n",
      " 0.88814497 0.88303888 0.91422313 0.88611902 0.92312002 0.92213738]\n"
     ]
    }
   ],
   "source": [
    "print('Test MAE: {}'.format(mean_absolute_error(Y_test, test_preds, multioutput='raw_values')))\n",
    "print('Test MSE: {}'.format(mean_squared_error(Y_test, test_preds, multioutput='raw_values')))\n",
    "print('Test R2: {}'.format(r2_score(Y_test, test_preds, multioutput='raw_values')))"
   ]
  },
  {
   "cell_type": "code",
   "execution_count": 20,
   "metadata": {},
   "outputs": [
    {
     "data": {
      "text/plain": [
       "{'F1x': {'MAE': 1.2869433945481026,\n",
       "  'MSE': 4.9138306012360005,\n",
       "  'R2': 0.9227583193609529},\n",
       " 'F1y': {'MAE': 0.7733984627383887,\n",
       "  'MSE': 1.9000006399083045,\n",
       "  'R2': 0.934051805076811},\n",
       " 'F1z': {'MAE': 1.0548500862842647,\n",
       "  'MSE': 3.683358569421289,\n",
       "  'R2': 0.9307729973443367},\n",
       " 'F2x': {'MAE': 1.1148560138123222,\n",
       "  'MSE': 3.0565063425338224,\n",
       "  'R2': 0.8882995818102599},\n",
       " 'F2y': {'MAE': 1.8255990198835783,\n",
       "  'MSE': 9.983542090008012,\n",
       "  'R2': 0.9319174085753112},\n",
       " 'F2z': {'MAE': 1.2849177841835189,\n",
       "  'MSE': 4.613021396634134,\n",
       "  'R2': 0.9566269525693342},\n",
       " 'F3x': {'MAE': 2.535635672610846,\n",
       "  'MSE': 16.945111838617745,\n",
       "  'R2': 0.9188642711442028},\n",
       " 'F3y': {'MAE': 3.713036263061726,\n",
       "  'MSE': 39.47145444107257,\n",
       "  'R2': 0.9168045510735037},\n",
       " 'F3z': {'MAE': 3.6625836449063316,\n",
       "  'MSE': 37.57713399208916,\n",
       "  'R2': 0.913902821447683},\n",
       " 'F4x': {'MAE': 1.630731887883112,\n",
       "  'MSE': 7.164174884652132,\n",
       "  'R2': 0.8894700137581021},\n",
       " 'F4y': {'MAE': 1.6496831680389434,\n",
       "  'MSE': 6.8097027548959455,\n",
       "  'R2': 0.9135950340963425},\n",
       " 'F4z': {'MAE': 3.241570451349328,\n",
       "  'MSE': 38.833960749860914,\n",
       "  'R2': 0.9295921749186477},\n",
       " 'F5x': {'MAE': 2.377330286901254,\n",
       "  'MSE': 13.834510145273569,\n",
       "  'R2': 0.9197350348393231},\n",
       " 'F5y': {'MAE': 2.258398797860858,\n",
       "  'MSE': 13.299251906199656,\n",
       "  'R2': 0.9457226709034535},\n",
       " 'F5z': {'MAE': 3.112467609017608,\n",
       "  'MSE': 25.48228907875483,\n",
       "  'R2': 0.923240479662103},\n",
       " 'F6x': {'MAE': 1.419073097388062,\n",
       "  'MSE': 5.429411538385741,\n",
       "  'R2': 0.911005262603097},\n",
       " 'F6y': {'MAE': 0.8169722722409811,\n",
       "  'MSE': 1.9204057642757928,\n",
       "  'R2': 0.8968018075722093},\n",
       " 'F6z': {'MAE': 2.9215783202153776,\n",
       "  'MSE': 25.13511471854329,\n",
       "  'R2': 0.9196544164409081},\n",
       " 'F7x': {'MAE': 1.32897958683432,\n",
       "  'MSE': 4.99711888844521,\n",
       "  'R2': 0.8881449665240172},\n",
       " 'F7y': {'MAE': 0.8083042176315013,\n",
       "  'MSE': 1.6639701305242225,\n",
       "  'R2': 0.8830388811584071},\n",
       " 'F7z': {'MAE': 2.5180488504394156,\n",
       "  'MSE': 18.063653934910956,\n",
       "  'R2': 0.9142231294620116},\n",
       " 'F8x': {'MAE': 1.6989094446724442,\n",
       "  'MSE': 7.862177170242128,\n",
       "  'R2': 0.8861190174826329},\n",
       " 'F8y': {'MAE': 1.887679763608849,\n",
       "  'MSE': 8.995652726518557,\n",
       "  'R2': 0.923120016450282},\n",
       " 'F8z': {'MAE': 2.412023127103384,\n",
       "  'MSE': 17.06833690524124,\n",
       "  'R2': 0.9221373798850717}}"
      ]
     },
     "execution_count": 20,
     "metadata": {},
     "output_type": "execute_result"
    }
   ],
   "source": [
    "results_test = {\n",
    "    'MAE': mean_absolute_error(Y_test, test_preds, multioutput='raw_values'),\n",
    "    'MSE': mean_squared_error(Y_test, test_preds, multioutput='raw_values'),\n",
    "    'R2': r2_score(Y_test, test_preds, multioutput='raw_values')\n",
    "}\n",
    "\n",
    "scores_test = {}\n",
    "\n",
    "for i, t in enumerate(targets_names):\n",
    "    scores_test[t] = {}\n",
    "        \n",
    "    scores_test[t]['MAE'] = results_test['MAE'][i] \n",
    "    scores_test[t]['MSE'] = results_test['MSE'][i] \n",
    "    scores_test[t]['R2'] = results_test['R2'][i] \n",
    "            \n",
    "scores_test"
   ]
  },
  {
   "cell_type": "code",
   "execution_count": 7,
   "metadata": {
    "colab": {
     "base_uri": "https://localhost:8080/",
     "height": 1000
    },
    "id": "nHfVPDVvXkbN",
    "outputId": "f8554b78-bad2-48ea-f8f8-5eead89f387d"
   },
   "outputs": [
    {
     "name": "stdout",
     "output_type": "stream",
     "text": [
      "F1x test MAE: 1.3078272866194836\n",
      "F1x test MSE: 5.242127154866028\n",
      "F1x test R2: 0.9175977471702847\n",
      "\n",
      "///////////////////////////////////////////////////\n",
      "\n",
      "F1y test MAE: 0.7878041500044975\n",
      "F1y test MSE: 1.954654049148908\n",
      "F1y test R2: 0.9321548090389622\n",
      "\n",
      "///////////////////////////////////////////////////\n",
      "\n",
      "F1z test MAE: 1.0709921831749392\n",
      "F1z test MSE: 3.826090311946997\n",
      "F1z test R2: 0.9280904209585075\n",
      "\n",
      "///////////////////////////////////////////////////\n",
      "\n",
      "F2x test MAE: 1.12513744871997\n",
      "F2x test MSE: 3.0569377190744427\n",
      "F2x test R2: 0.8882838170989904\n",
      "\n",
      "///////////////////////////////////////////////////\n",
      "\n",
      "F2y test MAE: 1.9078619159852903\n",
      "F2y test MSE: 10.566982221293094\n",
      "F2y test R2: 0.9279386487603146\n",
      "\n",
      "///////////////////////////////////////////////////\n",
      "\n",
      "F2z test MAE: 1.3288542642290186\n",
      "F2z test MSE: 4.835605789305866\n",
      "F2z test R2: 0.9545341455800324\n",
      "\n",
      "///////////////////////////////////////////////////\n",
      "\n",
      "F3x test MAE: 2.553784725738174\n",
      "F3x test MSE: 17.2091129221441\n",
      "F3x test R2: 0.917600194486898\n",
      "\n",
      "///////////////////////////////////////////////////\n",
      "\n",
      "F3y test MAE: 4.13562058324902\n",
      "F3y test MSE: 47.22829769367011\n",
      "F3y test R2: 0.9004551647691383\n",
      "\n",
      "///////////////////////////////////////////////////\n",
      "\n",
      "F3z test MAE: 3.8379165543888263\n",
      "F3z test MSE: 40.52226028066522\n",
      "F3z test R2: 0.9071549128929748\n",
      "\n",
      "///////////////////////////////////////////////////\n",
      "\n",
      "F4x test MAE: 1.6761070228831092\n",
      "F4x test MSE: 7.3640863459795245\n",
      "F4x test R2: 0.8863857491462134\n",
      "\n",
      "///////////////////////////////////////////////////\n",
      "\n",
      "F4y test MAE: 1.7317637370769396\n",
      "F4y test MSE: 7.329772657968697\n",
      "F4y test R2: 0.9069961231218199\n",
      "\n",
      "///////////////////////////////////////////////////\n",
      "\n",
      "F4z test MAE: 3.3613697757222987\n",
      "F4z test MSE: 40.28743391949571\n",
      "F4z test R2: 0.9269569586617423\n",
      "\n",
      "///////////////////////////////////////////////////\n",
      "\n",
      "F5x test MAE: 2.439046248752778\n",
      "F5x test MSE: 14.280512857275584\n",
      "F5x test R2: 0.9171474193932762\n",
      "\n",
      "///////////////////////////////////////////////////\n",
      "\n",
      "F5y test MAE: 2.422526235043655\n",
      "F5y test MSE: 15.326995715821388\n",
      "F5y test R2: 0.9374469784919863\n",
      "\n",
      "///////////////////////////////////////////////////\n",
      "\n"
     ]
    },
    {
     "ename": "KeyboardInterrupt",
     "evalue": "",
     "output_type": "error",
     "traceback": [
      "\u001b[0;31m---------------------------------------------------------------------------\u001b[0m",
      "\u001b[0;31mKeyboardInterrupt\u001b[0m                         Traceback (most recent call last)",
      "\u001b[0;32m<ipython-input-7-3045a85b2aeb>\u001b[0m in \u001b[0;36m<module>\u001b[0;34m\u001b[0m\n\u001b[1;32m     11\u001b[0m \u001b[0;34m\u001b[0m\u001b[0m\n\u001b[1;32m     12\u001b[0m     \u001b[0mclf\u001b[0m \u001b[0;34m=\u001b[0m \u001b[0mGridSearchCV\u001b[0m\u001b[0;34m(\u001b[0m\u001b[0mrf\u001b[0m\u001b[0;34m,\u001b[0m \u001b[0mparam_grid\u001b[0m\u001b[0;34m,\u001b[0m \u001b[0mcv\u001b[0m\u001b[0;34m=\u001b[0m\u001b[0;36m5\u001b[0m\u001b[0;34m,\u001b[0m \u001b[0mscoring\u001b[0m\u001b[0;34m=\u001b[0m\u001b[0;34m'neg_mean_squared_error'\u001b[0m\u001b[0;34m,\u001b[0m \u001b[0mn_jobs\u001b[0m\u001b[0;34m=\u001b[0m\u001b[0;36m8\u001b[0m\u001b[0;34m)\u001b[0m\u001b[0;34m\u001b[0m\u001b[0;34m\u001b[0m\u001b[0m\n\u001b[0;32m---> 13\u001b[0;31m     \u001b[0mclf\u001b[0m\u001b[0;34m.\u001b[0m\u001b[0mfit\u001b[0m\u001b[0;34m(\u001b[0m\u001b[0mX_train\u001b[0m\u001b[0;34m,\u001b[0m \u001b[0mY_train\u001b[0m\u001b[0;34m[\u001b[0m\u001b[0;34m:\u001b[0m\u001b[0;34m,\u001b[0m \u001b[0mt\u001b[0m\u001b[0;34m]\u001b[0m\u001b[0;34m)\u001b[0m\u001b[0;34m\u001b[0m\u001b[0;34m\u001b[0m\u001b[0m\n\u001b[0m\u001b[1;32m     14\u001b[0m \u001b[0;34m\u001b[0m\u001b[0m\n\u001b[1;32m     15\u001b[0m     \u001b[0;31m#print('Best params: {}'.format(clf.best_params_))\u001b[0m\u001b[0;34m\u001b[0m\u001b[0;34m\u001b[0m\u001b[0;34m\u001b[0m\u001b[0m\n",
      "\u001b[0;32m~/data/Educación/Master Ing de la Informacion para la Salud/Master Thesis/code/PYTHON/venv/lib/python3.8/site-packages/sklearn/utils/validation.py\u001b[0m in \u001b[0;36minner_f\u001b[0;34m(*args, **kwargs)\u001b[0m\n\u001b[1;32m     61\u001b[0m             \u001b[0mextra_args\u001b[0m \u001b[0;34m=\u001b[0m \u001b[0mlen\u001b[0m\u001b[0;34m(\u001b[0m\u001b[0margs\u001b[0m\u001b[0;34m)\u001b[0m \u001b[0;34m-\u001b[0m \u001b[0mlen\u001b[0m\u001b[0;34m(\u001b[0m\u001b[0mall_args\u001b[0m\u001b[0;34m)\u001b[0m\u001b[0;34m\u001b[0m\u001b[0;34m\u001b[0m\u001b[0m\n\u001b[1;32m     62\u001b[0m             \u001b[0;32mif\u001b[0m \u001b[0mextra_args\u001b[0m \u001b[0;34m<=\u001b[0m \u001b[0;36m0\u001b[0m\u001b[0;34m:\u001b[0m\u001b[0;34m\u001b[0m\u001b[0;34m\u001b[0m\u001b[0m\n\u001b[0;32m---> 63\u001b[0;31m                 \u001b[0;32mreturn\u001b[0m \u001b[0mf\u001b[0m\u001b[0;34m(\u001b[0m\u001b[0;34m*\u001b[0m\u001b[0margs\u001b[0m\u001b[0;34m,\u001b[0m \u001b[0;34m**\u001b[0m\u001b[0mkwargs\u001b[0m\u001b[0;34m)\u001b[0m\u001b[0;34m\u001b[0m\u001b[0;34m\u001b[0m\u001b[0m\n\u001b[0m\u001b[1;32m     64\u001b[0m \u001b[0;34m\u001b[0m\u001b[0m\n\u001b[1;32m     65\u001b[0m             \u001b[0;31m# extra_args > 0\u001b[0m\u001b[0;34m\u001b[0m\u001b[0;34m\u001b[0m\u001b[0;34m\u001b[0m\u001b[0m\n",
      "\u001b[0;32m~/data/Educación/Master Ing de la Informacion para la Salud/Master Thesis/code/PYTHON/venv/lib/python3.8/site-packages/sklearn/model_selection/_search.py\u001b[0m in \u001b[0;36mfit\u001b[0;34m(self, X, y, groups, **fit_params)\u001b[0m\n\u001b[1;32m    839\u001b[0m                 \u001b[0;32mreturn\u001b[0m \u001b[0mresults\u001b[0m\u001b[0;34m\u001b[0m\u001b[0;34m\u001b[0m\u001b[0m\n\u001b[1;32m    840\u001b[0m \u001b[0;34m\u001b[0m\u001b[0m\n\u001b[0;32m--> 841\u001b[0;31m             \u001b[0mself\u001b[0m\u001b[0;34m.\u001b[0m\u001b[0m_run_search\u001b[0m\u001b[0;34m(\u001b[0m\u001b[0mevaluate_candidates\u001b[0m\u001b[0;34m)\u001b[0m\u001b[0;34m\u001b[0m\u001b[0;34m\u001b[0m\u001b[0m\n\u001b[0m\u001b[1;32m    842\u001b[0m \u001b[0;34m\u001b[0m\u001b[0m\n\u001b[1;32m    843\u001b[0m             \u001b[0;31m# multimetric is determined here because in the case of a callable\u001b[0m\u001b[0;34m\u001b[0m\u001b[0;34m\u001b[0m\u001b[0;34m\u001b[0m\u001b[0m\n",
      "\u001b[0;32m~/data/Educación/Master Ing de la Informacion para la Salud/Master Thesis/code/PYTHON/venv/lib/python3.8/site-packages/sklearn/model_selection/_search.py\u001b[0m in \u001b[0;36m_run_search\u001b[0;34m(self, evaluate_candidates)\u001b[0m\n\u001b[1;32m   1286\u001b[0m     \u001b[0;32mdef\u001b[0m \u001b[0m_run_search\u001b[0m\u001b[0;34m(\u001b[0m\u001b[0mself\u001b[0m\u001b[0;34m,\u001b[0m \u001b[0mevaluate_candidates\u001b[0m\u001b[0;34m)\u001b[0m\u001b[0;34m:\u001b[0m\u001b[0;34m\u001b[0m\u001b[0;34m\u001b[0m\u001b[0m\n\u001b[1;32m   1287\u001b[0m         \u001b[0;34m\"\"\"Search all candidates in param_grid\"\"\"\u001b[0m\u001b[0;34m\u001b[0m\u001b[0;34m\u001b[0m\u001b[0m\n\u001b[0;32m-> 1288\u001b[0;31m         \u001b[0mevaluate_candidates\u001b[0m\u001b[0;34m(\u001b[0m\u001b[0mParameterGrid\u001b[0m\u001b[0;34m(\u001b[0m\u001b[0mself\u001b[0m\u001b[0;34m.\u001b[0m\u001b[0mparam_grid\u001b[0m\u001b[0;34m)\u001b[0m\u001b[0;34m)\u001b[0m\u001b[0;34m\u001b[0m\u001b[0;34m\u001b[0m\u001b[0m\n\u001b[0m\u001b[1;32m   1289\u001b[0m \u001b[0;34m\u001b[0m\u001b[0m\n\u001b[1;32m   1290\u001b[0m \u001b[0;34m\u001b[0m\u001b[0m\n",
      "\u001b[0;32m~/data/Educación/Master Ing de la Informacion para la Salud/Master Thesis/code/PYTHON/venv/lib/python3.8/site-packages/sklearn/model_selection/_search.py\u001b[0m in \u001b[0;36mevaluate_candidates\u001b[0;34m(candidate_params, cv, more_results)\u001b[0m\n\u001b[1;32m    793\u001b[0m                               n_splits, n_candidates, n_candidates * n_splits))\n\u001b[1;32m    794\u001b[0m \u001b[0;34m\u001b[0m\u001b[0m\n\u001b[0;32m--> 795\u001b[0;31m                 out = parallel(delayed(_fit_and_score)(clone(base_estimator),\n\u001b[0m\u001b[1;32m    796\u001b[0m                                                        \u001b[0mX\u001b[0m\u001b[0;34m,\u001b[0m \u001b[0my\u001b[0m\u001b[0;34m,\u001b[0m\u001b[0;34m\u001b[0m\u001b[0;34m\u001b[0m\u001b[0m\n\u001b[1;32m    797\u001b[0m                                                        \u001b[0mtrain\u001b[0m\u001b[0;34m=\u001b[0m\u001b[0mtrain\u001b[0m\u001b[0;34m,\u001b[0m \u001b[0mtest\u001b[0m\u001b[0;34m=\u001b[0m\u001b[0mtest\u001b[0m\u001b[0;34m,\u001b[0m\u001b[0;34m\u001b[0m\u001b[0;34m\u001b[0m\u001b[0m\n",
      "\u001b[0;32m~/data/Educación/Master Ing de la Informacion para la Salud/Master Thesis/code/PYTHON/venv/lib/python3.8/site-packages/joblib/parallel.py\u001b[0m in \u001b[0;36m__call__\u001b[0;34m(self, iterable)\u001b[0m\n\u001b[1;32m   1052\u001b[0m \u001b[0;34m\u001b[0m\u001b[0m\n\u001b[1;32m   1053\u001b[0m             \u001b[0;32mwith\u001b[0m \u001b[0mself\u001b[0m\u001b[0;34m.\u001b[0m\u001b[0m_backend\u001b[0m\u001b[0;34m.\u001b[0m\u001b[0mretrieval_context\u001b[0m\u001b[0;34m(\u001b[0m\u001b[0;34m)\u001b[0m\u001b[0;34m:\u001b[0m\u001b[0;34m\u001b[0m\u001b[0;34m\u001b[0m\u001b[0m\n\u001b[0;32m-> 1054\u001b[0;31m                 \u001b[0mself\u001b[0m\u001b[0;34m.\u001b[0m\u001b[0mretrieve\u001b[0m\u001b[0;34m(\u001b[0m\u001b[0;34m)\u001b[0m\u001b[0;34m\u001b[0m\u001b[0;34m\u001b[0m\u001b[0m\n\u001b[0m\u001b[1;32m   1055\u001b[0m             \u001b[0;31m# Make sure that we get a last message telling us we are done\u001b[0m\u001b[0;34m\u001b[0m\u001b[0;34m\u001b[0m\u001b[0;34m\u001b[0m\u001b[0m\n\u001b[1;32m   1056\u001b[0m             \u001b[0melapsed_time\u001b[0m \u001b[0;34m=\u001b[0m \u001b[0mtime\u001b[0m\u001b[0;34m.\u001b[0m\u001b[0mtime\u001b[0m\u001b[0;34m(\u001b[0m\u001b[0;34m)\u001b[0m \u001b[0;34m-\u001b[0m \u001b[0mself\u001b[0m\u001b[0;34m.\u001b[0m\u001b[0m_start_time\u001b[0m\u001b[0;34m\u001b[0m\u001b[0;34m\u001b[0m\u001b[0m\n",
      "\u001b[0;32m~/data/Educación/Master Ing de la Informacion para la Salud/Master Thesis/code/PYTHON/venv/lib/python3.8/site-packages/joblib/parallel.py\u001b[0m in \u001b[0;36mretrieve\u001b[0;34m(self)\u001b[0m\n\u001b[1;32m    931\u001b[0m             \u001b[0;32mtry\u001b[0m\u001b[0;34m:\u001b[0m\u001b[0;34m\u001b[0m\u001b[0;34m\u001b[0m\u001b[0m\n\u001b[1;32m    932\u001b[0m                 \u001b[0;32mif\u001b[0m \u001b[0mgetattr\u001b[0m\u001b[0;34m(\u001b[0m\u001b[0mself\u001b[0m\u001b[0;34m.\u001b[0m\u001b[0m_backend\u001b[0m\u001b[0;34m,\u001b[0m \u001b[0;34m'supports_timeout'\u001b[0m\u001b[0;34m,\u001b[0m \u001b[0;32mFalse\u001b[0m\u001b[0;34m)\u001b[0m\u001b[0;34m:\u001b[0m\u001b[0;34m\u001b[0m\u001b[0;34m\u001b[0m\u001b[0m\n\u001b[0;32m--> 933\u001b[0;31m                     \u001b[0mself\u001b[0m\u001b[0;34m.\u001b[0m\u001b[0m_output\u001b[0m\u001b[0;34m.\u001b[0m\u001b[0mextend\u001b[0m\u001b[0;34m(\u001b[0m\u001b[0mjob\u001b[0m\u001b[0;34m.\u001b[0m\u001b[0mget\u001b[0m\u001b[0;34m(\u001b[0m\u001b[0mtimeout\u001b[0m\u001b[0;34m=\u001b[0m\u001b[0mself\u001b[0m\u001b[0;34m.\u001b[0m\u001b[0mtimeout\u001b[0m\u001b[0;34m)\u001b[0m\u001b[0;34m)\u001b[0m\u001b[0;34m\u001b[0m\u001b[0;34m\u001b[0m\u001b[0m\n\u001b[0m\u001b[1;32m    934\u001b[0m                 \u001b[0;32melse\u001b[0m\u001b[0;34m:\u001b[0m\u001b[0;34m\u001b[0m\u001b[0;34m\u001b[0m\u001b[0m\n\u001b[1;32m    935\u001b[0m                     \u001b[0mself\u001b[0m\u001b[0;34m.\u001b[0m\u001b[0m_output\u001b[0m\u001b[0;34m.\u001b[0m\u001b[0mextend\u001b[0m\u001b[0;34m(\u001b[0m\u001b[0mjob\u001b[0m\u001b[0;34m.\u001b[0m\u001b[0mget\u001b[0m\u001b[0;34m(\u001b[0m\u001b[0;34m)\u001b[0m\u001b[0;34m)\u001b[0m\u001b[0;34m\u001b[0m\u001b[0;34m\u001b[0m\u001b[0m\n",
      "\u001b[0;32m~/data/Educación/Master Ing de la Informacion para la Salud/Master Thesis/code/PYTHON/venv/lib/python3.8/site-packages/joblib/_parallel_backends.py\u001b[0m in \u001b[0;36mwrap_future_result\u001b[0;34m(future, timeout)\u001b[0m\n\u001b[1;32m    540\u001b[0m         AsyncResults.get from multiprocessing.\"\"\"\n\u001b[1;32m    541\u001b[0m         \u001b[0;32mtry\u001b[0m\u001b[0;34m:\u001b[0m\u001b[0;34m\u001b[0m\u001b[0;34m\u001b[0m\u001b[0m\n\u001b[0;32m--> 542\u001b[0;31m             \u001b[0;32mreturn\u001b[0m \u001b[0mfuture\u001b[0m\u001b[0;34m.\u001b[0m\u001b[0mresult\u001b[0m\u001b[0;34m(\u001b[0m\u001b[0mtimeout\u001b[0m\u001b[0;34m=\u001b[0m\u001b[0mtimeout\u001b[0m\u001b[0;34m)\u001b[0m\u001b[0;34m\u001b[0m\u001b[0;34m\u001b[0m\u001b[0m\n\u001b[0m\u001b[1;32m    543\u001b[0m         \u001b[0;32mexcept\u001b[0m \u001b[0mCfTimeoutError\u001b[0m \u001b[0;32mas\u001b[0m \u001b[0me\u001b[0m\u001b[0;34m:\u001b[0m\u001b[0;34m\u001b[0m\u001b[0;34m\u001b[0m\u001b[0m\n\u001b[1;32m    544\u001b[0m             \u001b[0;32mraise\u001b[0m \u001b[0mTimeoutError\u001b[0m \u001b[0;32mfrom\u001b[0m \u001b[0me\u001b[0m\u001b[0;34m\u001b[0m\u001b[0;34m\u001b[0m\u001b[0m\n",
      "\u001b[0;32m/usr/lib/python3.8/concurrent/futures/_base.py\u001b[0m in \u001b[0;36mresult\u001b[0;34m(self, timeout)\u001b[0m\n\u001b[1;32m    432\u001b[0m                 \u001b[0;32mreturn\u001b[0m \u001b[0mself\u001b[0m\u001b[0;34m.\u001b[0m\u001b[0m__get_result\u001b[0m\u001b[0;34m(\u001b[0m\u001b[0;34m)\u001b[0m\u001b[0;34m\u001b[0m\u001b[0;34m\u001b[0m\u001b[0m\n\u001b[1;32m    433\u001b[0m \u001b[0;34m\u001b[0m\u001b[0m\n\u001b[0;32m--> 434\u001b[0;31m             \u001b[0mself\u001b[0m\u001b[0;34m.\u001b[0m\u001b[0m_condition\u001b[0m\u001b[0;34m.\u001b[0m\u001b[0mwait\u001b[0m\u001b[0;34m(\u001b[0m\u001b[0mtimeout\u001b[0m\u001b[0;34m)\u001b[0m\u001b[0;34m\u001b[0m\u001b[0;34m\u001b[0m\u001b[0m\n\u001b[0m\u001b[1;32m    435\u001b[0m \u001b[0;34m\u001b[0m\u001b[0m\n\u001b[1;32m    436\u001b[0m             \u001b[0;32mif\u001b[0m \u001b[0mself\u001b[0m\u001b[0;34m.\u001b[0m\u001b[0m_state\u001b[0m \u001b[0;32min\u001b[0m \u001b[0;34m[\u001b[0m\u001b[0mCANCELLED\u001b[0m\u001b[0;34m,\u001b[0m \u001b[0mCANCELLED_AND_NOTIFIED\u001b[0m\u001b[0;34m]\u001b[0m\u001b[0;34m:\u001b[0m\u001b[0;34m\u001b[0m\u001b[0;34m\u001b[0m\u001b[0m\n",
      "\u001b[0;32m/usr/lib/python3.8/threading.py\u001b[0m in \u001b[0;36mwait\u001b[0;34m(self, timeout)\u001b[0m\n\u001b[1;32m    300\u001b[0m         \u001b[0;32mtry\u001b[0m\u001b[0;34m:\u001b[0m    \u001b[0;31m# restore state no matter what (e.g., KeyboardInterrupt)\u001b[0m\u001b[0;34m\u001b[0m\u001b[0;34m\u001b[0m\u001b[0m\n\u001b[1;32m    301\u001b[0m             \u001b[0;32mif\u001b[0m \u001b[0mtimeout\u001b[0m \u001b[0;32mis\u001b[0m \u001b[0;32mNone\u001b[0m\u001b[0;34m:\u001b[0m\u001b[0;34m\u001b[0m\u001b[0;34m\u001b[0m\u001b[0m\n\u001b[0;32m--> 302\u001b[0;31m                 \u001b[0mwaiter\u001b[0m\u001b[0;34m.\u001b[0m\u001b[0macquire\u001b[0m\u001b[0;34m(\u001b[0m\u001b[0;34m)\u001b[0m\u001b[0;34m\u001b[0m\u001b[0;34m\u001b[0m\u001b[0m\n\u001b[0m\u001b[1;32m    303\u001b[0m                 \u001b[0mgotit\u001b[0m \u001b[0;34m=\u001b[0m \u001b[0;32mTrue\u001b[0m\u001b[0;34m\u001b[0m\u001b[0;34m\u001b[0m\u001b[0m\n\u001b[1;32m    304\u001b[0m             \u001b[0;32melse\u001b[0m\u001b[0;34m:\u001b[0m\u001b[0;34m\u001b[0m\u001b[0;34m\u001b[0m\u001b[0m\n",
      "\u001b[0;31mKeyboardInterrupt\u001b[0m: "
     ]
    }
   ],
   "source": [
    "param_grid = {}\n",
    "#     'n_estimators': [10, 20, 50, 100, 500],\n",
    "#     'criterion': ['mse', 'mae'],\n",
    "#     'max_depth': [1, 2, 5, 10],\n",
    "\n",
    "# }\n",
    "\n",
    "for t in range(Y_train.shape[1]):\n",
    "    target = targets_names[t]\n",
    "    rf = RandomForestRegressor(random_state=0)\n",
    "\n",
    "    clf = GridSearchCV(rf, param_grid, cv=5, scoring='neg_mean_squared_error', n_jobs=8)\n",
    "    clf.fit(X_train, Y_train[:, t])\n",
    "\n",
    "    #print('Best params: {}'.format(clf.best_params_))\n",
    "\n",
    "\n",
    "    test_preds = clf.best_estimator_.predict(X_test)\n",
    "\n",
    "    # print('{} train MAE: {}'.format(target, mean_absolute_error(Y_train[:, t], clf.best_estimator_.predict(X_train_norm))))\n",
    "    # print('{} train MSE: {}'.format(target, mean_squared_error(Y_train[:, t], clf.best_estimator_.predict(X_train_norm))))\n",
    "    # print('{} train R2: {}'.format(target, r2_score(Y_train[:, t], clf.best_estimator_.predict(X_train_norm))))\n",
    "\n",
    "    print('{} test MAE: {}'.format(target, mean_absolute_error(Y_test[:, t], test_preds)))\n",
    "    print('{} test MSE: {}'.format(target, mean_squared_error(Y_test[:, t], test_preds)))\n",
    "    print('{} test R2: {}'.format(target, r2_score(Y_test[:, t], test_preds)))\n",
    "    \n",
    "    print()\n",
    "    print('///////////////////////////////////////////////////')\n",
    "    print()\n",
    "    gc.collect()"
   ]
  },
  {
   "cell_type": "code",
   "execution_count": null,
   "metadata": {
    "id": "7KiYjCavJo5x"
   },
   "outputs": [],
   "source": []
  }
 ],
 "metadata": {
  "colab": {
   "collapsed_sections": [],
   "name": "attempt_2.ipynb",
   "provenance": []
  },
  "kernelspec": {
   "display_name": "Python 3",
   "language": "python",
   "name": "python3"
  },
  "language_info": {
   "codemirror_mode": {
    "name": "ipython",
    "version": 3
   },
   "file_extension": ".py",
   "mimetype": "text/x-python",
   "name": "python",
   "nbconvert_exporter": "python",
   "pygments_lexer": "ipython3",
   "version": "3.8.5"
  }
 },
 "nbformat": 4,
 "nbformat_minor": 4
}
